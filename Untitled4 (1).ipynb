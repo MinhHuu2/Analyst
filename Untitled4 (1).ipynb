{
 "cells": [
  {
   "cell_type": "markdown",
   "id": "277268cf-70fd-4e5e-b2c3-0f1d2fd03f45",
   "metadata": {},
   "source": [
    "# Bước 1: Lấy dữ liệu giá cổ phiếu theo thời gian thực"
   ]
  },
  {
   "cell_type": "code",
   "execution_count": 1,
   "id": "d57aa7d4-9851-4126-91e2-c4a63bb5aef8",
   "metadata": {},
   "outputs": [],
   "source": [
    "import smtplib\n",
    "from email.mime.multipart import MIMEMultipart\n",
    "from email.mime.text import MIMEText\n",
    "import time\n",
    "import requests"
   ]
  },
  {
   "cell_type": "code",
   "execution_count": 2,
   "id": "b5e9a057-162f-4120-97c6-df702affd58e",
   "metadata": {},
   "outputs": [
    {
     "name": "stdout",
     "output_type": "stream",
     "text": [
      "Giá cổ phiếu AAPL hiện tại: 222.125\n"
     ]
    }
   ],
   "source": [
    "API_KEY = 'your_alpha_vantage_api_key'\n",
    "stock_symbol = 'AAPL'  # Mã cổ phiếu Apple\n",
    "url = f\"https://www.alphavantage.co/query?function=TIME_SERIES_INTRADAY&symbol={stock_symbol}&interval=1min&apikey={API_KEY}\"\n",
    "\n",
    "response = requests.get(url)\n",
    "data = response.json()\n",
    "\n",
    "# Lấy giá hiện tại (giá đóng cửa gần nhất)\n",
    "latest_data = data['Time Series (1min)']\n",
    "latest_time = list(latest_data.keys())[0]\n",
    "current_price = float(latest_data[latest_time]['4. close'])\n",
    "\n",
    "print(f\"Giá cổ phiếu {stock_symbol} hiện tại: {current_price}\")"
   ]
  },
  {
   "cell_type": "markdown",
   "id": "20e0368e-95c8-4553-a97b-8cf6dacc2970",
   "metadata": {},
   "source": [
    "# Bước 2: Xây dựng hàm gửi email và Xác định ngưỡng biến động"
   ]
  },
  {
   "cell_type": "code",
   "execution_count": 9,
   "id": "81178370-39bd-4aa5-9454-96011b3783e3",
   "metadata": {},
   "outputs": [
    {
     "name": "stdout",
     "output_type": "stream",
     "text": [
      "Bắt đầu gửi email...\n",
      "Chuẩn bị nội dung email...\n",
      "Kết nối tới máy chủ Gmail...\n",
      "Đang gửi email...\n",
      "Email đã được gửi thành công tới tất cả khách hàng!\n"
     ]
    }
   ],
   "source": [
    "import smtplib\n",
    "from email.mime.multipart import MIMEMultipart\n",
    "from email.mime.text import MIMEText\n",
    "\n",
    "# Hàm gửi email cảnh báo tới nhiều khách hàng\n",
    "def send_email_alert(stock_symbol, current_price, price_change, email_list):\n",
    "    print(\"Bắt đầu gửi email...\")  # Thêm câu lệnh này để kiểm tra\n",
    "    gmail_user = 'nguyenhuuminh031402@gmail.com'  # Thay bằng email của bạn\n",
    "    gmail_password = 'atcb ynzy uhwf hnlf'  # Thay bằng mật khẩu ứng dụng\n",
    "\n",
    "    # Chủ đề và nội dung email\n",
    "    subject = f\"Cảnh báo biến động cổ phiếu: {stock_symbol}\"\n",
    "    body = f\"\"\"\n",
    "    Chào,\n",
    "\n",
    "    Chúng tôi xin thông báo rằng cổ phiếu {stock_symbol} đã có biến động đáng chú ý trong phiên giao dịch gần đây.\n",
    "\n",
    "    - Cổ phiếu: {stock_symbol}\n",
    "    - Biến động giá: {price_change:.2f}%\n",
    "    - Giá hiện tại: {current_price} USD\n",
    "\n",
    "    Chúng tôi khuyến nghị bạn xem xét lại tình hình tài chính và đưa ra quyết định đầu tư hoặc rút vốn dựa trên biến động giá.\n",
    "\n",
    "    Cách hành động tiếp theo:\n",
    "    1. Đăng nhập vào tài khoản của bạn để kiểm tra thêm chi tiết.\n",
    "    2. Xem xét lịch sử giao dịch và dự báo thị trường để có quyết định hợp lý.\n",
    "    3. Nếu bạn có bất kỳ thắc mắc nào, hãy liên hệ với chúng tôi qua [Thông tin liên hệ].\n",
    "\n",
    "    Cảm ơn bạn đã tin tưởng sử dụng dịch vụ của chúng tôi!\n",
    "\n",
    "    Trân trọng,\n",
    "    [Tên công ty]\n",
    "    [Thông tin liên hệ]\n",
    "    \"\"\"\n",
    "    # Tạo đối tượng MIMEMultipart\n",
    "    print(\"Chuẩn bị nội dung email...\")  # Thêm câu lệnh này để kiểm tra\n",
    "    msg = MIMEMultipart()\n",
    "    msg['From'] = gmail_user\n",
    "    msg['To'] = \", \".join(email_list)  # Kết hợp danh sách email người nhận\n",
    "    msg['Subject'] = subject\n",
    "\n",
    "    # Đính kèm nội dung email\n",
    "    msg.attach(MIMEText(body, 'plain'))\n",
    "\n",
    "    try:\n",
    "        print(\"Kết nối tới máy chủ Gmail...\")  # Thêm câu lệnh này để kiểm tra\n",
    "        # Thiết lập kết nối tới máy chủ SMTP Gmail\n",
    "        server = smtplib.SMTP('smtp.gmail.com', 587)\n",
    "        server.starttls()\n",
    "        server.login(gmail_user, gmail_password)\n",
    "        \n",
    "        print(\"Đang gửi email...\")  # Thêm câu lệnh này để kiểm tra\n",
    "        # Gửi email tới tất cả các địa chỉ trong email_list\n",
    "        server.sendmail(gmail_user, email_list, msg.as_string())\n",
    "        server.quit()\n",
    "\n",
    "        print(\"Email đã được gửi thành công tới tất cả khách hàng!\")\n",
    "\n",
    "    except Exception as e:\n",
    "        print(f\"Đã xảy ra lỗi khi gửi email: {e}\")  # In lỗi nếu có bất kỳ vấn đề gì xảy ra\n",
    "\n",
    "# Ví dụ danh sách khách hàng\n",
    "email_list = ['Nguyenhuuminh031402@gmail.com']\n",
    "\n",
    "# Gọi hàm với danh sách khách hàng và thông tin cổ phiếu\n",
    "send_email_alert('AAPL', 155.50, 6.5, email_list)\n"
   ]
  },
  {
   "cell_type": "markdown",
   "id": "e7db6501-f314-4bc3-b2f3-14be64af0f80",
   "metadata": {},
   "source": [
    "## Xây dựng hàm tự động gửi khi cổ phiếu đạt ngưỡng cụ thể"
   ]
  },
  {
   "cell_type": "code",
   "execution_count": 10,
   "id": "dddf7e41-d6d1-471b-a095-13e94d453825",
   "metadata": {},
   "outputs": [],
   "source": [
    "def monitor_stock(stock_symbol, threshold, email_list):\n",
    "    current_price = get_stock_price(stock_symbol)\n",
    "    print(f\"Giá cổ phiếu {stock_symbol} hiện tại là: {current_price}\")\n",
    "\n",
    "    if current_price >= threshold:\n",
    "        print(f\"Cổ phiếu {stock_symbol} đã đạt ngưỡng {threshold}. Gửi email cảnh báo.\")\n",
    "        price_change = ((current_price - threshold) / threshold) * 100\n",
    "        send_email_alert(stock_symbol, current_price, price_change, email_list)\n",
    "    else:\n",
    "        print(f\"Cổ phiếu {stock_symbol} chưa đạt ngưỡng {threshold}.\")"
   ]
  },
  {
   "cell_type": "code",
   "execution_count": 4,
   "id": "48306dca-6ce1-4cea-b3fa-207f09e3309b",
   "metadata": {},
   "outputs": [
    {
     "name": "stdout",
     "output_type": "stream",
     "text": [
      "Requirement already satisfied: requests in c:\\users\\acer\\anaconda3\\lib\\site-packages (2.31.0)\n",
      "Requirement already satisfied: charset-normalizer<4,>=2 in c:\\users\\acer\\anaconda3\\lib\\site-packages (from requests) (2.0.4)\n",
      "Requirement already satisfied: idna<4,>=2.5 in c:\\users\\acer\\anaconda3\\lib\\site-packages (from requests) (3.4)\n",
      "Requirement already satisfied: urllib3<3,>=1.21.1 in c:\\users\\acer\\anaconda3\\lib\\site-packages (from requests) (2.0.7)\n",
      "Requirement already satisfied: certifi>=2017.4.17 in c:\\users\\acer\\anaconda3\\lib\\site-packages (from requests) (2024.2.2)\n",
      "Note: you may need to restart the kernel to use updated packages.\n"
     ]
    }
   ],
   "source": [
    "pip install requests"
   ]
  },
  {
   "cell_type": "markdown",
   "id": "3bc66f48-0951-433e-a72e-a66de0f4e7d2",
   "metadata": {},
   "source": [
    "# Bước 3: Bảo mật tốt hơn bằng OAuth2 (Tùy chọn)"
   ]
  },
  {
   "cell_type": "markdown",
   "id": "ece44154-4f8e-42a3-98f7-ba9f0db40b94",
   "metadata": {},
   "source": [
    "Với OAuth2, bạn có thể sử dụng thư viện như Google API Client để quản lý quyền truy cập và bảo mật tốt hơn. Điều này yêu cầu bạn phải thiết lập một dự án trên Google Cloud và lấy thông tin xác thực OAuth2."
   ]
  },
  {
   "cell_type": "markdown",
   "id": "904827b9-a432-445c-9472-3ae0533cfa5c",
   "metadata": {},
   "source": [
    "# Bước 4: Tùy chỉnh nội dung thông báo"
   ]
  },
  {
   "cell_type": "markdown",
   "id": "0509d7ed-458f-454e-95b9-9aa87be6c3a8",
   "metadata": {},
   "source": [
    "Bạn có thể tùy chỉnh nội dung email dựa trên thông tin biến động giá cổ phiếu của từng khách hàng, ví dụ:\n",
    "- Thêm thông tin chi tiết về cổ phiếu.\n",
    "- Cung cấp biểu đồ giá trong email nếu cần."
   ]
  },
  {
   "cell_type": "markdown",
   "id": "d441b1e9-32ab-4b5a-b66d-cf0fa8ff94ed",
   "metadata": {},
   "source": [
    "# Bước 5: Tự động hóa thông qua lập lịch"
   ]
  },
  {
   "cell_type": "code",
   "execution_count": null,
   "id": "6f21c9c7-9067-496e-8d58-dcd7b83ca43b",
   "metadata": {},
   "outputs": [],
   "source": [
    "import schedule\n",
    "import time\n",
    "\n",
    "# Hàm kiểm tra cổ phiếu mỗi 1 phút (có thể điều chỉnh thời gian)\n",
    "def job():\n",
    "    monitor_stock('AAPL', 160.00, ['Nguyenhuuminh031402@gmail.com'])\n",
    "\n",
    "# Thiết lập lịch trình chạy mỗi phút\n",
    "schedule.every(1).minutes.do(job)\n",
    "\n",
    "while True:\n",
    "    schedule.run_pending()\n",
    "    time.sleep(1)"
   ]
  },
  {
   "cell_type": "code",
   "execution_count": null,
   "id": "3c371323-d461-42a9-8378-dea7e47a3172",
   "metadata": {},
   "outputs": [],
   "source": []
  }
 ],
 "metadata": {
  "kernelspec": {
   "display_name": "Python 3 (ipykernel)",
   "language": "python",
   "name": "python3"
  },
  "language_info": {
   "codemirror_mode": {
    "name": "ipython",
    "version": 3
   },
   "file_extension": ".py",
   "mimetype": "text/x-python",
   "name": "python",
   "nbconvert_exporter": "python",
   "pygments_lexer": "ipython3",
   "version": "3.11.7"
  },
  "widgets": {
   "application/vnd.jupyter.widget-state+json": {
    "state": {},
    "version_major": 2,
    "version_minor": 0
   }
  }
 },
 "nbformat": 4,
 "nbformat_minor": 5
}
