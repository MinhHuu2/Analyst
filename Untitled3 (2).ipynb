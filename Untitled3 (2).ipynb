{
 "cells": [
  {
   "cell_type": "markdown",
   "id": "d529775a-bdc8-4ad6-a8f1-15982e1d8d61",
   "metadata": {},
   "source": [
    " # Tìm kiếm dữ liệu "
   ]
  },
  {
   "cell_type": "code",
   "execution_count": 1,
   "id": "2989baeb-8373-40e2-ac9d-1d2bd5e28772",
   "metadata": {},
   "outputs": [],
   "source": [
    "import pandas as pd\n",
    "import numpy \n",
    "import matplotlib.pyplot as plt\n",
    "import seaborn as sns\n",
    "import re"
   ]
  },
  {
   "cell_type": "code",
   "execution_count": 2,
   "id": "61220bbd-ce3c-412c-bdc3-bb0c2af663d2",
   "metadata": {},
   "outputs": [],
   "source": [
    "data_files = [\n",
    "    \"ap_2010.csv\",\n",
    "    \"class_size.csv\",\n",
    "    \"demographics.csv\",\n",
    "    \"graduation.csv\",\n",
    "    \"hs_directory.csv\",\n",
    "    \"sat_results.csv\"\n",
    "]\n",
    "data = {}\n",
    "for f in data_files:\n",
    "    d = pd.read_csv('D:/school/{0}'.format(f))\n",
    "    key_name = f.replace(\".csv\", \"\")\n",
    "    data[key_name] = d"
   ]
  },
  {
   "cell_type": "markdown",
   "id": "02ca32e1-19ba-4193-b6fc-0c36ca9d9e70",
   "metadata": {},
   "source": [
    "## Khám phá điểm SAT"
   ]
  },
  {
   "cell_type": "code",
   "execution_count": 3,
   "id": "c447c9ad-d669-40fc-b787-306df4ebc7e2",
   "metadata": {},
   "outputs": [
    {
     "name": "stdout",
     "output_type": "stream",
     "text": [
      "      DBN                                    SCHOOL NAME  \\\n",
      "0  01M292  HENRY STREET SCHOOL FOR INTERNATIONAL STUDIES   \n",
      "1  01M448            UNIVERSITY NEIGHBORHOOD HIGH SCHOOL   \n",
      "2  01M450                     EAST SIDE COMMUNITY SCHOOL   \n",
      "3  01M458                      FORSYTH SATELLITE ACADEMY   \n",
      "4  01M509                        MARTA VALLE HIGH SCHOOL   \n",
      "\n",
      "  Num of SAT Test Takers SAT Critical Reading Avg. Score SAT Math Avg. Score  \\\n",
      "0                     29                             355                 404   \n",
      "1                     91                             383                 423   \n",
      "2                     70                             377                 402   \n",
      "3                      7                             414                 401   \n",
      "4                     44                             390                 433   \n",
      "\n",
      "  SAT Writing Avg. Score  \n",
      "0                    363  \n",
      "1                    366  \n",
      "2                    370  \n",
      "3                    359  \n",
      "4                    384  \n"
     ]
    }
   ],
   "source": [
    "print(data[\"sat_results\"].head(5))"
   ]
  },
  {
   "cell_type": "raw",
   "id": "49e0d0f7-1631-4c1c-9fa5-99e019f11c29",
   "metadata": {},
   "source": [
    "Dữ liệu sat_result\n",
    "- Mỗi trường có một mã DBN duy nhất bắt đầu với 01M***\n",
    "- Gồm các cột:\n",
    " SHOOL NAME\n",
    " Num of SAT Test Takers\n",
    " SAT Critical Reading Avg.Score\n",
    " Score SAT Math Avg.Score\n",
    " SAT Writing Avg. Score "
   ]
  },
  {
   "cell_type": "markdown",
   "id": "f2a7222e-619e-4fe2-a9ab-a4395366963c",
   "metadata": {},
   "source": [
    "## Khám phá các dữ liệu còn lại "
   ]
  },
  {
   "cell_type": "code",
   "execution_count": 4,
   "id": "6f9f39a1-2def-455c-b89f-8e331ff05b64",
   "metadata": {},
   "outputs": [
    {
     "name": "stdout",
     "output_type": "stream",
     "text": [
      "      DBN                             SchoolName  AP Test Takers   \\\n",
      "0  01M448           UNIVERSITY NEIGHBORHOOD H.S.             39.0   \n",
      "1  01M450                 EAST SIDE COMMUNITY HS             19.0   \n",
      "2  01M515                    LOWER EASTSIDE PREP             24.0   \n",
      "3  01M539         NEW EXPLORATIONS SCI,TECH,MATH            255.0   \n",
      "4  02M296  High School of Hospitality Management              NaN   \n",
      "\n",
      "   Total Exams Taken  Number of Exams with scores 3 4 or 5  \n",
      "0               49.0                                  10.0  \n",
      "1               21.0                                   NaN  \n",
      "2               26.0                                  24.0  \n",
      "3              377.0                                 191.0  \n",
      "4                NaN                                   NaN  \n",
      "   CSD BOROUGH SCHOOL CODE                SCHOOL NAME GRADE  PROGRAM TYPE  \\\n",
      "0    1       M        M015  P.S. 015 Roberto Clemente     0K       GEN ED   \n",
      "1    1       M        M015  P.S. 015 Roberto Clemente     0K          CTT   \n",
      "2    1       M        M015  P.S. 015 Roberto Clemente     01       GEN ED   \n",
      "3    1       M        M015  P.S. 015 Roberto Clemente     01          CTT   \n",
      "4    1       M        M015  P.S. 015 Roberto Clemente     02       GEN ED   \n",
      "\n",
      "  CORE SUBJECT (MS CORE and 9-12 ONLY) CORE COURSE (MS CORE and 9-12 ONLY)  \\\n",
      "0                                    -                                   -   \n",
      "1                                    -                                   -   \n",
      "2                                    -                                   -   \n",
      "3                                    -                                   -   \n",
      "4                                    -                                   -   \n",
      "\n",
      "  SERVICE CATEGORY(K-9* ONLY)  NUMBER OF STUDENTS / SEATS FILLED  \\\n",
      "0                           -                               19.0   \n",
      "1                           -                               21.0   \n",
      "2                           -                               17.0   \n",
      "3                           -                               17.0   \n",
      "4                           -                               15.0   \n",
      "\n",
      "   NUMBER OF SECTIONS  AVERAGE CLASS SIZE  SIZE OF SMALLEST CLASS  \\\n",
      "0                 1.0                19.0                    19.0   \n",
      "1                 1.0                21.0                    21.0   \n",
      "2                 1.0                17.0                    17.0   \n",
      "3                 1.0                17.0                    17.0   \n",
      "4                 1.0                15.0                    15.0   \n",
      "\n",
      "   SIZE OF LARGEST CLASS DATA SOURCE  SCHOOLWIDE PUPIL-TEACHER RATIO  \n",
      "0                   19.0         ATS                             NaN  \n",
      "1                   21.0         ATS                             NaN  \n",
      "2                   17.0         ATS                             NaN  \n",
      "3                   17.0         ATS                             NaN  \n",
      "4                   15.0         ATS                             NaN  \n",
      "      DBN                       Name  schoolyear fl_percent  frl_percent  \\\n",
      "0  01M015  P.S. 015 ROBERTO CLEMENTE    20052006       89.4          NaN   \n",
      "1  01M015  P.S. 015 ROBERTO CLEMENTE    20062007       89.4          NaN   \n",
      "2  01M015  P.S. 015 ROBERTO CLEMENTE    20072008       89.4          NaN   \n",
      "3  01M015  P.S. 015 ROBERTO CLEMENTE    20082009       89.4          NaN   \n",
      "4  01M015  P.S. 015 ROBERTO CLEMENTE    20092010                    96.5   \n",
      "\n",
      "   total_enrollment prek   k grade1 grade2  ... black_num black_per  \\\n",
      "0               281   15  36     40     33  ...        74      26.3   \n",
      "1               243   15  29     39     38  ...        68      28.0   \n",
      "2               261   18  43     39     36  ...        77      29.5   \n",
      "3               252   17  37     44     32  ...        75      29.8   \n",
      "4               208   16  40     28     32  ...        67      32.2   \n",
      "\n",
      "  hispanic_num hispanic_per white_num white_per male_num male_per female_num  \\\n",
      "0          189         67.3         5       1.8    158.0     56.2      123.0   \n",
      "1          153         63.0         4       1.6    140.0     57.6      103.0   \n",
      "2          157         60.2         7       2.7    143.0     54.8      118.0   \n",
      "3          149         59.1         7       2.8    149.0     59.1      103.0   \n",
      "4          118         56.7         6       2.9    124.0     59.6       84.0   \n",
      "\n",
      "  female_per  \n",
      "0       43.8  \n",
      "1       42.4  \n",
      "2       45.2  \n",
      "3       40.9  \n",
      "4       40.4  \n",
      "\n",
      "[5 rows x 38 columns]\n",
      "    Demographic     DBN                            School Name    Cohort  \\\n",
      "0  Total Cohort  01M292  HENRY STREET SCHOOL FOR INTERNATIONAL      2003   \n",
      "1  Total Cohort  01M292  HENRY STREET SCHOOL FOR INTERNATIONAL      2004   \n",
      "2  Total Cohort  01M292  HENRY STREET SCHOOL FOR INTERNATIONAL      2005   \n",
      "3  Total Cohort  01M292  HENRY STREET SCHOOL FOR INTERNATIONAL      2006   \n",
      "4  Total Cohort  01M292  HENRY STREET SCHOOL FOR INTERNATIONAL  2006 Aug   \n",
      "\n",
      "   Total Cohort Total Grads - n  Total Grads - % of cohort Total Regents - n  \\\n",
      "0             5               s                        NaN                 s   \n",
      "1            55              37                       67.3                17   \n",
      "2            64              43                       67.2                27   \n",
      "3            78              43                       55.1                36   \n",
      "4            78              44                       56.4                37   \n",
      "\n",
      "   Total Regents - % of cohort  Total Regents - % of grads  ...  \\\n",
      "0                          NaN                         NaN  ...   \n",
      "1                         30.9                        45.9  ...   \n",
      "2                         42.2                        62.8  ...   \n",
      "3                         46.2                        83.7  ...   \n",
      "4                         47.4                        84.1  ...   \n",
      "\n",
      "  Regents w/o Advanced - n  Regents w/o Advanced - % of cohort  \\\n",
      "0                        s                                 NaN   \n",
      "1                       17                                30.9   \n",
      "2                       27                                42.2   \n",
      "3                       36                                46.2   \n",
      "4                       37                                47.4   \n",
      "\n",
      "   Regents w/o Advanced - % of grads Local - n  Local - % of cohort  \\\n",
      "0                                NaN         s                  NaN   \n",
      "1                               45.9        20                 36.4   \n",
      "2                               62.8        16                 25.0   \n",
      "3                               83.7         7                  9.0   \n",
      "4                               84.1         7                  9.0   \n",
      "\n",
      "   Local - % of grads Still Enrolled - n  Still Enrolled - % of cohort  \\\n",
      "0                 NaN                  s                           NaN   \n",
      "1                54.1                 15                          27.3   \n",
      "2                37.2                  9                          14.1   \n",
      "3                16.3                 16                          20.5   \n",
      "4                15.9                 15                          19.2   \n",
      "\n",
      "   Dropped Out - n Dropped Out - % of cohort  \n",
      "0                s                       NaN  \n",
      "1                3                       5.5  \n",
      "2                9                      14.1  \n",
      "3               11                      14.1  \n",
      "4               11                      14.1  \n",
      "\n",
      "[5 rows x 23 columns]\n",
      "      dbn                                        school_name    borough  \\\n",
      "0  27Q260          Frederick Douglass Academy VI High School     Queens   \n",
      "1  21K559        Life Academy High School for Film and Music   Brooklyn   \n",
      "2  16K393     Frederick Douglass Academy IV Secondary School   Brooklyn   \n",
      "3  08X305                               Pablo Neruda Academy      Bronx   \n",
      "4  03M485  Fiorello H. LaGuardia High School of Music & A...  Manhattan   \n",
      "\n",
      "  building_code  phone_number    fax_number  grade_span_min  grade_span_max  \\\n",
      "0          Q465  718-471-2154  718-471-2890             9.0              12   \n",
      "1          K400  718-333-7750  718-333-7775             9.0              12   \n",
      "2          K026  718-574-2820  718-574-2821             9.0              12   \n",
      "3          X450  718-824-1682  718-824-1663             9.0              12   \n",
      "4          M485  212-496-0700  212-724-5748             9.0              12   \n",
      "\n",
      "   expgrade_span_min  expgrade_span_max  ... priority08 priority09 priority10  \\\n",
      "0                NaN                NaN  ...        NaN        NaN        NaN   \n",
      "1                NaN                NaN  ...        NaN        NaN        NaN   \n",
      "2                NaN                NaN  ...        NaN        NaN        NaN   \n",
      "3                NaN                NaN  ...        NaN        NaN        NaN   \n",
      "4                NaN                NaN  ...        NaN        NaN        NaN   \n",
      "\n",
      "                                          Location 1 Community Board  \\\n",
      "0  8 21 Bay 25 Street\\nFar Rockaway, NY 11691\\n(4...            14.0   \n",
      "1  2630 Benson Avenue\\nBrooklyn, NY 11214\\n(40.59...            13.0   \n",
      "2  1014 Lafayette Avenue\\nBrooklyn, NY 11221\\n(40...             3.0   \n",
      "3  1980 Lafayette Avenue\\nBronx, NY 10473\\n(40.82...             9.0   \n",
      "4  100 Amsterdam Avenue\\nNew York, NY 10023\\n(40....             7.0   \n",
      "\n",
      "   Council District Census Tract        BIN           BBL  \\\n",
      "0              31.0     100802.0  4300730.0  4.157360e+09   \n",
      "1              47.0        306.0  3186454.0  3.068830e+09   \n",
      "2              36.0        291.0  3393805.0  3.016160e+09   \n",
      "3              18.0         16.0  2022205.0  2.036040e+09   \n",
      "4               6.0        151.0  1030341.0  1.011560e+09   \n",
      "\n",
      "                                                 NTA  \n",
      "0  Far Rockaway-Bayswater                        ...  \n",
      "1  Gravesend                                     ...  \n",
      "2  Stuyvesant Heights                            ...  \n",
      "3  Soundview-Castle Hill-Clason Point-Harding Par...  \n",
      "4  Lincoln Square                                ...  \n",
      "\n",
      "[5 rows x 64 columns]\n",
      "      DBN                                    SCHOOL NAME  \\\n",
      "0  01M292  HENRY STREET SCHOOL FOR INTERNATIONAL STUDIES   \n",
      "1  01M448            UNIVERSITY NEIGHBORHOOD HIGH SCHOOL   \n",
      "2  01M450                     EAST SIDE COMMUNITY SCHOOL   \n",
      "3  01M458                      FORSYTH SATELLITE ACADEMY   \n",
      "4  01M509                        MARTA VALLE HIGH SCHOOL   \n",
      "\n",
      "  Num of SAT Test Takers SAT Critical Reading Avg. Score SAT Math Avg. Score  \\\n",
      "0                     29                             355                 404   \n",
      "1                     91                             383                 423   \n",
      "2                     70                             377                 402   \n",
      "3                      7                             414                 401   \n",
      "4                     44                             390                 433   \n",
      "\n",
      "  SAT Writing Avg. Score  \n",
      "0                    363  \n",
      "1                    366  \n",
      "2                    370  \n",
      "3                    359  \n",
      "4                    384  \n"
     ]
    }
   ],
   "source": [
    "for d in data:\n",
    "    print(data[d].head())"
   ]
  },
  {
   "cell_type": "raw",
   "id": "2c03a240-bc53-43f8-a1de-08b216d73e57",
   "metadata": {},
   "source": [
    "AP_2010\n",
    "DBN\n",
    "School name\n",
    "AP Test Takers: Số lượng thí sinh\n",
    "Total Exams Taken: Số lượng bài kiểm tra\n",
    "Number of Exams with scores 3 4 or 5: Số lượng điểm 3,4,5"
   ]
  },
  {
   "cell_type": "raw",
   "id": "b4f38d46-2a9d-44a3-be87-0cf87bb9bfb1",
   "metadata": {},
   "source": [
    "class_size\n",
    "BOROUGH: Quận ký hiệu chữ cái viết hoa đầu\n",
    "School Code: ký hiệu Borough + Mã trường\n",
    "School Name:Kiểu trường (P.S'Public School').Mã trường.Tên trường\n",
    "Grade: cấp độ\n",
    "Program Type\n",
    "NUMBER OF STUDENTS / SEATS FILLED\n",
    "AVERAGE CLASS SIZE\n",
    "SIZE OF SMALLEST CLASS\n",
    "SIZE OF LARGEST CLASS"
   ]
  },
  {
   "cell_type": "raw",
   "id": "7b4fdde0-c26e-4074-bb7e-9243ba3e1321",
   "metadata": {},
   "source": [
    "DEMOGRAPHICS(Nhân khẩu học )\n",
    "DBM: Mã trường\n",
    "Name:School Name:Kiểu trường (P.S'Public School').Mã trường.Tên trường\n",
    "Schoolyear:Năm học của học sinh \"20062007\"\n"
   ]
  },
  {
   "cell_type": "markdown",
   "id": "91968074-f14a-4cc7-9fea-ae40d56c8e66",
   "metadata": {},
   "source": [
    "## Đọc trong dữ liệu khảo sát"
   ]
  },
  {
   "cell_type": "code",
   "execution_count": 5,
   "id": "40c372ad-8bd8-4380-b8a8-58a7292f2f4a",
   "metadata": {},
   "outputs": [
    {
     "data": {
      "text/html": [
       "<div>\n",
       "<style scoped>\n",
       "    .dataframe tbody tr th:only-of-type {\n",
       "        vertical-align: middle;\n",
       "    }\n",
       "\n",
       "    .dataframe tbody tr th {\n",
       "        vertical-align: top;\n",
       "    }\n",
       "\n",
       "    .dataframe thead th {\n",
       "        text-align: right;\n",
       "    }\n",
       "</style>\n",
       "<table border=\"1\" class=\"dataframe\">\n",
       "  <thead>\n",
       "    <tr style=\"text-align: right;\">\n",
       "      <th></th>\n",
       "      <th>dbn</th>\n",
       "      <th>bn</th>\n",
       "      <th>schoolname</th>\n",
       "      <th>d75</th>\n",
       "      <th>studentssurveyed</th>\n",
       "      <th>highschool</th>\n",
       "      <th>schooltype</th>\n",
       "      <th>rr_s</th>\n",
       "      <th>rr_t</th>\n",
       "      <th>rr_p</th>\n",
       "      <th>...</th>\n",
       "      <th>s_q14_2</th>\n",
       "      <th>s_q14_3</th>\n",
       "      <th>s_q14_4</th>\n",
       "      <th>s_q14_5</th>\n",
       "      <th>s_q14_6</th>\n",
       "      <th>s_q14_7</th>\n",
       "      <th>s_q14_8</th>\n",
       "      <th>s_q14_9</th>\n",
       "      <th>s_q14_10</th>\n",
       "      <th>s_q14_11</th>\n",
       "    </tr>\n",
       "  </thead>\n",
       "  <tbody>\n",
       "    <tr>\n",
       "      <th>0</th>\n",
       "      <td>01M015</td>\n",
       "      <td>M015</td>\n",
       "      <td>P.S. 015 Roberto Clemente</td>\n",
       "      <td>0</td>\n",
       "      <td>No</td>\n",
       "      <td>0.0</td>\n",
       "      <td>Elementary School</td>\n",
       "      <td>NaN</td>\n",
       "      <td>88</td>\n",
       "      <td>60</td>\n",
       "      <td>...</td>\n",
       "      <td>NaN</td>\n",
       "      <td>NaN</td>\n",
       "      <td>NaN</td>\n",
       "      <td>NaN</td>\n",
       "      <td>NaN</td>\n",
       "      <td>NaN</td>\n",
       "      <td>NaN</td>\n",
       "      <td>NaN</td>\n",
       "      <td>NaN</td>\n",
       "      <td>NaN</td>\n",
       "    </tr>\n",
       "    <tr>\n",
       "      <th>1</th>\n",
       "      <td>01M019</td>\n",
       "      <td>M019</td>\n",
       "      <td>P.S. 019 Asher Levy</td>\n",
       "      <td>0</td>\n",
       "      <td>No</td>\n",
       "      <td>0.0</td>\n",
       "      <td>Elementary School</td>\n",
       "      <td>NaN</td>\n",
       "      <td>100</td>\n",
       "      <td>60</td>\n",
       "      <td>...</td>\n",
       "      <td>NaN</td>\n",
       "      <td>NaN</td>\n",
       "      <td>NaN</td>\n",
       "      <td>NaN</td>\n",
       "      <td>NaN</td>\n",
       "      <td>NaN</td>\n",
       "      <td>NaN</td>\n",
       "      <td>NaN</td>\n",
       "      <td>NaN</td>\n",
       "      <td>NaN</td>\n",
       "    </tr>\n",
       "    <tr>\n",
       "      <th>2</th>\n",
       "      <td>01M020</td>\n",
       "      <td>M020</td>\n",
       "      <td>P.S. 020 Anna Silver</td>\n",
       "      <td>0</td>\n",
       "      <td>No</td>\n",
       "      <td>0.0</td>\n",
       "      <td>Elementary School</td>\n",
       "      <td>NaN</td>\n",
       "      <td>88</td>\n",
       "      <td>73</td>\n",
       "      <td>...</td>\n",
       "      <td>NaN</td>\n",
       "      <td>NaN</td>\n",
       "      <td>NaN</td>\n",
       "      <td>NaN</td>\n",
       "      <td>NaN</td>\n",
       "      <td>NaN</td>\n",
       "      <td>NaN</td>\n",
       "      <td>NaN</td>\n",
       "      <td>NaN</td>\n",
       "      <td>NaN</td>\n",
       "    </tr>\n",
       "    <tr>\n",
       "      <th>3</th>\n",
       "      <td>01M034</td>\n",
       "      <td>M034</td>\n",
       "      <td>P.S. 034 Franklin D. Roosevelt</td>\n",
       "      <td>0</td>\n",
       "      <td>Yes</td>\n",
       "      <td>0.0</td>\n",
       "      <td>Elementary / Middle School</td>\n",
       "      <td>89.0</td>\n",
       "      <td>73</td>\n",
       "      <td>50</td>\n",
       "      <td>...</td>\n",
       "      <td>NaN</td>\n",
       "      <td>NaN</td>\n",
       "      <td>NaN</td>\n",
       "      <td>NaN</td>\n",
       "      <td>NaN</td>\n",
       "      <td>NaN</td>\n",
       "      <td>NaN</td>\n",
       "      <td>NaN</td>\n",
       "      <td>NaN</td>\n",
       "      <td>NaN</td>\n",
       "    </tr>\n",
       "    <tr>\n",
       "      <th>4</th>\n",
       "      <td>01M063</td>\n",
       "      <td>M063</td>\n",
       "      <td>P.S. 063 William McKinley</td>\n",
       "      <td>0</td>\n",
       "      <td>No</td>\n",
       "      <td>0.0</td>\n",
       "      <td>Elementary School</td>\n",
       "      <td>NaN</td>\n",
       "      <td>100</td>\n",
       "      <td>60</td>\n",
       "      <td>...</td>\n",
       "      <td>NaN</td>\n",
       "      <td>NaN</td>\n",
       "      <td>NaN</td>\n",
       "      <td>NaN</td>\n",
       "      <td>NaN</td>\n",
       "      <td>NaN</td>\n",
       "      <td>NaN</td>\n",
       "      <td>NaN</td>\n",
       "      <td>NaN</td>\n",
       "      <td>NaN</td>\n",
       "    </tr>\n",
       "  </tbody>\n",
       "</table>\n",
       "<p>5 rows × 2773 columns</p>\n",
       "</div>"
      ],
      "text/plain": [
       "      dbn    bn                      schoolname  d75 studentssurveyed  \\\n",
       "0  01M015  M015       P.S. 015 Roberto Clemente    0               No   \n",
       "1  01M019  M019             P.S. 019 Asher Levy    0               No   \n",
       "2  01M020  M020            P.S. 020 Anna Silver    0               No   \n",
       "3  01M034  M034  P.S. 034 Franklin D. Roosevelt    0              Yes   \n",
       "4  01M063  M063       P.S. 063 William McKinley    0               No   \n",
       "\n",
       "   highschool                  schooltype  rr_s  rr_t  rr_p  ...  s_q14_2  \\\n",
       "0         0.0           Elementary School   NaN    88    60  ...      NaN   \n",
       "1         0.0           Elementary School   NaN   100    60  ...      NaN   \n",
       "2         0.0           Elementary School   NaN    88    73  ...      NaN   \n",
       "3         0.0  Elementary / Middle School  89.0    73    50  ...      NaN   \n",
       "4         0.0           Elementary School   NaN   100    60  ...      NaN   \n",
       "\n",
       "   s_q14_3  s_q14_4  s_q14_5  s_q14_6  s_q14_7  s_q14_8  s_q14_9  s_q14_10  \\\n",
       "0      NaN      NaN      NaN      NaN      NaN      NaN      NaN       NaN   \n",
       "1      NaN      NaN      NaN      NaN      NaN      NaN      NaN       NaN   \n",
       "2      NaN      NaN      NaN      NaN      NaN      NaN      NaN       NaN   \n",
       "3      NaN      NaN      NaN      NaN      NaN      NaN      NaN       NaN   \n",
       "4      NaN      NaN      NaN      NaN      NaN      NaN      NaN       NaN   \n",
       "\n",
       "   s_q14_11  \n",
       "0       NaN  \n",
       "1       NaN  \n",
       "2       NaN  \n",
       "3       NaN  \n",
       "4       NaN  \n",
       "\n",
       "[5 rows x 2773 columns]"
      ]
     },
     "execution_count": 5,
     "metadata": {},
     "output_type": "execute_result"
    }
   ],
   "source": [
    "all_survey = pd.read_csv('D:/school/survey_all.txt', delimiter = \"\\t\", encoding = \"windows-1252\")\n",
    "d75_survey = pd.read_csv('D:/school/survey_d75.txt', delimiter = \"\\t\", encoding = \"windows-1252\")\n",
    "survey = pd.concat([all_survey, d75_survey], axis = 0)\n",
    "survey.head()"
   ]
  },
  {
   "cell_type": "markdown",
   "id": "8a25d179-7247-4c63-9c89-67752d9946fa",
   "metadata": {},
   "source": [
    "# Chuẩn bị dữ liệu "
   ]
  },
  {
   "cell_type": "markdown",
   "id": "d8311085-4de9-4360-8d25-70eabf4d8908",
   "metadata": {},
   "source": [
    "## dữ liệu khảo sát"
   ]
  },
  {
   "cell_type": "raw",
   "id": "9c216280-0412-48ff-8434-e22f5f0345f0",
   "metadata": {},
   "source": [
    "Quan sát:\n",
    "Có quá nhiều cột thiếu giá trị \n",
    "Nhiều cột chúng ta không cần \n",
    "Sử dụng tệp giải thích ý nghĩa các cột ta lọc các cột cần thiết\n",
    "https://data.cityofnewyork.us/Education/NYC-School-Survey-2011/mnz3-dyi8"
   ]
  },
  {
   "cell_type": "raw",
   "id": "2e9a6bac-0ee1-4c5a-afeb-e32dce4b1d8f",
   "metadata": {},
   "source": [
    "Các cột sau cung ng cấp cho chúng ta dữ liệu khảo sát tổng hợp về cảm nhận của phụ huynh, giáo viên và học sinh về an toàn trường học, kết quả học tập và hơn thế nữa. Nó cũng cho phép chúng tôi xác định duy nhất trường học."
   ]
  },
  {
   "cell_type": "code",
   "execution_count": 6,
   "id": "24794fd5-dbfd-4499-9746-5ba7a60aa685",
   "metadata": {},
   "outputs": [
    {
     "name": "stderr",
     "output_type": "stream",
     "text": [
      "C:\\Users\\ACER\\AppData\\Local\\Temp\\ipykernel_14732\\4250012922.py:1: PerformanceWarning: DataFrame is highly fragmented.  This is usually the result of calling `frame.insert` many times, which has poor performance.  Consider joining all columns at once using pd.concat(axis=1) instead. To get a de-fragmented frame, use `newframe = frame.copy()`\n",
      "  survey[\"DBN\"] = survey[\"dbn\"]\n"
     ]
    }
   ],
   "source": [
    "survey[\"DBN\"] = survey[\"dbn\"]\n",
    "\n",
    "survey_fields = [\n",
    "    \"DBN\", \n",
    "    \"rr_s\", \n",
    "    \"rr_t\", \n",
    "    \"rr_p\", \n",
    "    \"N_s\", \n",
    "    \"N_t\", \n",
    "    \"N_p\", \n",
    "    \"saf_p_11\", \n",
    "    \"com_p_11\", \n",
    "    \"eng_p_11\", \n",
    "    \"aca_p_11\", \n",
    "    \"saf_t_11\", \n",
    "    \"com_t_11\", \n",
    "    \"eng_t_11\", \n",
    "    \"aca_t_11\", \n",
    "    \"saf_s_11\", \n",
    "    \"com_s_11\", \n",
    "    \"eng_s_11\", \n",
    "    \"aca_s_11\", \n",
    "    \"saf_tot_11\", \n",
    "    \"com_tot_11\", \n",
    "    \"eng_tot_11\", \n",
    "    \"aca_tot_11\",\n",
    "]\n",
    "survey = survey.loc[:,survey_fields]\n",
    "data[\"survey\"] = survey"
   ]
  },
  {
   "cell_type": "raw",
   "id": "43d923e3-42db-4200-a5c8-437b3de711ca",
   "metadata": {},
   "source": [
    "Sau khi đã khám phá hết tất cả các tệp dữ liệu, ta cần kết hợp các tập dữ liệu với nhau để có thể tiếp tục phân tích.\n",
    "Vậy ta sẽ kết hợp các tập dữ liệu này như thế nào?\n",
    "Dự tính cách làm ta sẽ kết hợp các tập dữ liệu theo cách sắp xếp 'Mã Trường DBN'"
   ]
  },
  {
   "cell_type": "markdown",
   "id": "9547e4a6-e5d8-4da5-b435-b7797b7138fd",
   "metadata": {},
   "source": [
    "## Thêm cột DBN"
   ]
  },
  {
   "cell_type": "raw",
   "id": "6df4e65c-3eff-4168-a430-cd698ca719cf",
   "metadata": {},
   "source": [
    "Quan sát thấy tập Class_size không có cột DBN vậy ta sẽ thêm cột DBN vào tập bằng các quan sát trên."
   ]
  },
  {
   "cell_type": "code",
   "execution_count": 7,
   "id": "53420f53-68eb-423c-8e5f-198f9afec123",
   "metadata": {},
   "outputs": [
    {
     "name": "stdout",
     "output_type": "stream",
     "text": [
      "   CSD BOROUGH SCHOOL CODE                SCHOOL NAME GRADE  PROGRAM TYPE  \\\n",
      "0    1       M        M015  P.S. 015 Roberto Clemente     0K       GEN ED   \n",
      "1    1       M        M015  P.S. 015 Roberto Clemente     0K          CTT   \n",
      "2    1       M        M015  P.S. 015 Roberto Clemente     01       GEN ED   \n",
      "3    1       M        M015  P.S. 015 Roberto Clemente     01          CTT   \n",
      "4    1       M        M015  P.S. 015 Roberto Clemente     02       GEN ED   \n",
      "\n",
      "  CORE SUBJECT (MS CORE and 9-12 ONLY) CORE COURSE (MS CORE and 9-12 ONLY)  \\\n",
      "0                                    -                                   -   \n",
      "1                                    -                                   -   \n",
      "2                                    -                                   -   \n",
      "3                                    -                                   -   \n",
      "4                                    -                                   -   \n",
      "\n",
      "  SERVICE CATEGORY(K-9* ONLY)  NUMBER OF STUDENTS / SEATS FILLED  \\\n",
      "0                           -                               19.0   \n",
      "1                           -                               21.0   \n",
      "2                           -                               17.0   \n",
      "3                           -                               17.0   \n",
      "4                           -                               15.0   \n",
      "\n",
      "   NUMBER OF SECTIONS  AVERAGE CLASS SIZE  SIZE OF SMALLEST CLASS  \\\n",
      "0                 1.0                19.0                    19.0   \n",
      "1                 1.0                21.0                    21.0   \n",
      "2                 1.0                17.0                    17.0   \n",
      "3                 1.0                17.0                    17.0   \n",
      "4                 1.0                15.0                    15.0   \n",
      "\n",
      "   SIZE OF LARGEST CLASS DATA SOURCE  SCHOOLWIDE PUPIL-TEACHER RATIO  \\\n",
      "0                   19.0         ATS                             NaN   \n",
      "1                   21.0         ATS                             NaN   \n",
      "2                   17.0         ATS                             NaN   \n",
      "3                   17.0         ATS                             NaN   \n",
      "4                   15.0         ATS                             NaN   \n",
      "\n",
      "  padded_csd     DBN  \n",
      "0         01  01M015  \n",
      "1         01  01M015  \n",
      "2         01  01M015  \n",
      "3         01  01M015  \n",
      "4         01  01M015  \n"
     ]
    }
   ],
   "source": [
    "data[\"hs_directory\"][\"DBN\"] = data[\"hs_directory\"][\"dbn\"]\n",
    "\n",
    "def pad_csd(num):\n",
    "    return str(num).zfill(2)\n",
    "    \n",
    "data[\"class_size\"][\"padded_csd\"] = data[\"class_size\"][\"CSD\"].apply(pad_csd)\n",
    "data[\"class_size\"][\"DBN\"] = data[\"class_size\"][\"padded_csd\"] + data[\"class_size\"][\"SCHOOL CODE\"]\n",
    "print(data[\"class_size\"].head())"
   ]
  },
  {
   "cell_type": "code",
   "execution_count": 8,
   "id": "36024656-a185-478c-b22d-54097e39fb56",
   "metadata": {},
   "outputs": [],
   "source": [
    "## Chuẩn bị  dũ liệu điểm SAT"
   ]
  },
  {
   "cell_type": "raw",
   "id": "b22ab70c-1d27-44c7-84c8-2214714b3609",
   "metadata": {},
   "source": [
    "Ta cần tạo một biến chứa tổng điểm SAT\n",
    "Điều ta quan tâm là điều gì tác động đến điềm SAT vì vậy việc tính tổng điểm SAT, sẽ cho làm cho việc tương quan dễ dàng hơn "
   ]
  },
  {
   "cell_type": "code",
   "execution_count": 9,
   "id": "b2bcb43c-8f84-4543-8b2a-b59c201a95af",
   "metadata": {},
   "outputs": [
    {
     "name": "stdout",
     "output_type": "stream",
     "text": [
      "0    1122.0\n",
      "1    1172.0\n",
      "2    1149.0\n",
      "3    1174.0\n",
      "4    1207.0\n",
      "Name: sat_score, dtype: float64\n"
     ]
    }
   ],
   "source": [
    "cols = ['SAT Math Avg. Score', 'SAT Critical Reading Avg. Score', 'SAT Writing Avg. Score']\n",
    "for c in cols:\n",
    "    data[\"sat_results\"][c] = pd.to_numeric(data[\"sat_results\"][c], errors=\"coerce\")\n",
    "\n",
    "data['sat_results']['sat_score'] = data['sat_results'][cols[0]] + data['sat_results'][cols[1]] + data['sat_results'][cols[2]]\n",
    "print(data['sat_results']['sat_score'].head())"
   ]
  },
  {
   "cell_type": "markdown",
   "id": "76f1b892-c832-4470-913e-04dceb5d6939",
   "metadata": {},
   "source": [
    "## Chuyển đổi dữu liệu sang dạng số"
   ]
  },
  {
   "cell_type": "raw",
   "id": "ed6e370f-9ab9-4629-8e7c-8efa78efb889",
   "metadata": {},
   "source": [
    "Tiện cho việc tinh toán tương quan "
   ]
  },
  {
   "cell_type": "code",
   "execution_count": 10,
   "id": "7fa5c975-8c57-4cff-8c67-ff00649bf587",
   "metadata": {},
   "outputs": [],
   "source": [
    "import re\n",
    "def find_lat(loc):\n",
    "    coords = re.findall(\"\\(.+, .+\\)\", loc)\n",
    "    lat = coords[0].split(\",\")[0].replace(\"(\", \"\")\n",
    "    return lat\n",
    "\n",
    "def find_lon(loc):\n",
    "    coords = re.findall(\"\\(.+, .+\\)\", loc)\n",
    "    lon = coords[0].split(\",\")[1].replace(\")\", \"\").strip()\n",
    "    return lon\n",
    "\n",
    "data[\"hs_directory\"][\"lat\"] = data[\"hs_directory\"][\"Location 1\"].apply(find_lat)\n",
    "data[\"hs_directory\"][\"lon\"] = data[\"hs_directory\"][\"Location 1\"].apply(find_lon)\n",
    "\n",
    "data[\"hs_directory\"][\"lat\"] = pd.to_numeric(data[\"hs_directory\"][\"lat\"], errors=\"coerce\")\n",
    "data[\"hs_directory\"][\"lon\"] = pd.to_numeric(data[\"hs_directory\"][\"lon\"], errors=\"coerce\")"
   ]
  },
  {
   "cell_type": "code",
   "execution_count": 11,
   "id": "045da6cb-7a50-4c27-a573-6eb14c99ae05",
   "metadata": {},
   "outputs": [],
   "source": [
    "cols = ['AP Test Takers ', 'Total Exams Taken', 'Number of Exams with scores 3 4 or 5']\n",
    "\n",
    "for col in cols:\n",
    "    data[\"ap_2010\"][col] = pd.to_numeric(data[\"ap_2010\"][col], errors=\"coerce\")"
   ]
  },
  {
   "cell_type": "markdown",
   "id": "660cfe3d-0deb-4f16-9533-823c194ada34",
   "metadata": {},
   "source": [
    "# Kết hợp dữ liệu"
   ]
  },
  {
   "cell_type": "raw",
   "id": "d67e663d-07ef-4290-b9cf-8308fb4ea957",
   "metadata": {},
   "source": [
    "Kết hợp bằng cách sử dụng mã trường duy nhất của mỗi trường\n",
    "Vấn đề: Một tập có một trường xuất hiện nhiều lần vì vậy ta cần lọc các giá trị duy nhất dựa sao cho phù hợp với mục đích."
   ]
  },
  {
   "cell_type": "markdown",
   "id": "1364ebe4-8ee7-446a-bf9e-806f23c865dc",
   "metadata": {},
   "source": [
    "## Lọc dữ liệu Class_size"
   ]
  },
  {
   "cell_type": "code",
   "execution_count": 12,
   "id": "ab10c934-6899-41f8-a262-0a59364cbb7e",
   "metadata": {},
   "outputs": [
    {
     "name": "stdout",
     "output_type": "stream",
     "text": [
      "     CSD BOROUGH SCHOOL CODE                                    SCHOOL NAME  \\\n",
      "225    1       M        M292  Henry Street School for International Studies   \n",
      "226    1       M        M292  Henry Street School for International Studies   \n",
      "227    1       M        M292  Henry Street School for International Studies   \n",
      "228    1       M        M292  Henry Street School for International Studies   \n",
      "229    1       M        M292  Henry Street School for International Studies   \n",
      "\n",
      "    GRADE  PROGRAM TYPE CORE SUBJECT (MS CORE and 9-12 ONLY)  \\\n",
      "225  09-12       GEN ED                              ENGLISH   \n",
      "226  09-12       GEN ED                              ENGLISH   \n",
      "227  09-12       GEN ED                              ENGLISH   \n",
      "228  09-12       GEN ED                              ENGLISH   \n",
      "229  09-12       GEN ED                                 MATH   \n",
      "\n",
      "    CORE COURSE (MS CORE and 9-12 ONLY) SERVICE CATEGORY(K-9* ONLY)  \\\n",
      "225                           English 9                           -   \n",
      "226                          English 10                           -   \n",
      "227                          English 11                           -   \n",
      "228                          English 12                           -   \n",
      "229                  Integrated Algebra                           -   \n",
      "\n",
      "     NUMBER OF STUDENTS / SEATS FILLED  NUMBER OF SECTIONS  \\\n",
      "225                               63.0                 3.0   \n",
      "226                               79.0                 3.0   \n",
      "227                               38.0                 2.0   \n",
      "228                               69.0                 3.0   \n",
      "229                               53.0                 3.0   \n",
      "\n",
      "     AVERAGE CLASS SIZE  SIZE OF SMALLEST CLASS  SIZE OF LARGEST CLASS  \\\n",
      "225                21.0                    19.0                   25.0   \n",
      "226                26.3                    24.0                   31.0   \n",
      "227                19.0                    16.0                   22.0   \n",
      "228                23.0                    13.0                   30.0   \n",
      "229                17.7                    16.0                   21.0   \n",
      "\n",
      "    DATA SOURCE  SCHOOLWIDE PUPIL-TEACHER RATIO padded_csd     DBN  \n",
      "225       STARS                             NaN         01  01M292  \n",
      "226       STARS                             NaN         01  01M292  \n",
      "227       STARS                             NaN         01  01M292  \n",
      "228       STARS                             NaN         01  01M292  \n",
      "229       STARS                             NaN         01  01M292  \n"
     ]
    }
   ],
   "source": [
    "#Class_size ta lọc bằng cách kết hợp điều kiện các trường trung cấp Grade[\"9-12\"] và chương trình đào tạo trung cấp ProgramType[\"GEN ED\"]\n",
    "class_size = data[\"class_size\"]\n",
    "class_size = class_size[class_size[\"GRADE \"] == \"09-12\"]\n",
    "class_size = class_size[class_size[\"PROGRAM TYPE\"] ==\n",
    "                        \"GEN ED\"]\n",
    "print(class_size.head())"
   ]
  },
  {
   "cell_type": "raw",
   "id": "1b599474-7055-4f7a-bf8c-cf728f800334",
   "metadata": {},
   "source": [
    "Quan sát \n",
    "DBN vẫn chưa là duy nhất\n",
    "Cột CORE SUBJECT xuất hiện ENGLISH trùng nhau\n",
    "Cột CORE COURSE xuất hiện nhiều cấp ENGLISH"
   ]
  },
  {
   "cell_type": "code",
   "execution_count": 13,
   "id": "6866ef2c-744d-4256-9384-2bef8f2daf7b",
   "metadata": {},
   "outputs": [],
   "source": [
    "import numpy"
   ]
  },
  {
   "cell_type": "code",
   "execution_count": 14,
   "id": "44ce756e-9829-4ea1-a567-f880a1de3d2a",
   "metadata": {},
   "outputs": [
    {
     "name": "stdout",
     "output_type": "stream",
     "text": [
      "<class 'pandas.core.frame.DataFrame'>\n",
      "Index: 6513 entries, 225 to 27608\n",
      "Data columns (total 18 columns):\n",
      " #   Column                                Non-Null Count  Dtype  \n",
      "---  ------                                --------------  -----  \n",
      " 0   CSD                                   6513 non-null   int64  \n",
      " 1   BOROUGH                               6513 non-null   object \n",
      " 2   SCHOOL CODE                           6513 non-null   object \n",
      " 3   SCHOOL NAME                           6513 non-null   object \n",
      " 4   GRADE                                 6513 non-null   object \n",
      " 5   PROGRAM TYPE                          6513 non-null   object \n",
      " 6   CORE SUBJECT (MS CORE and 9-12 ONLY)  6513 non-null   object \n",
      " 7   CORE COURSE (MS CORE and 9-12 ONLY)   6513 non-null   object \n",
      " 8   SERVICE CATEGORY(K-9* ONLY)           6513 non-null   object \n",
      " 9   NUMBER OF STUDENTS / SEATS FILLED     6513 non-null   float64\n",
      " 10  NUMBER OF SECTIONS                    6513 non-null   float64\n",
      " 11  AVERAGE CLASS SIZE                    6513 non-null   float64\n",
      " 12  SIZE OF SMALLEST CLASS                6513 non-null   float64\n",
      " 13  SIZE OF LARGEST CLASS                 6513 non-null   float64\n",
      " 14  DATA SOURCE                           6513 non-null   object \n",
      " 15  SCHOOLWIDE PUPIL-TEACHER RATIO        0 non-null      float64\n",
      " 16  padded_csd                            6513 non-null   object \n",
      " 17  DBN                                   6513 non-null   object \n",
      "dtypes: float64(6), int64(1), object(11)\n",
      "memory usage: 966.8+ KB\n"
     ]
    }
   ],
   "source": [
    "class_size.info()"
   ]
  },
  {
   "cell_type": "code",
   "execution_count": 15,
   "id": "5e629c6f-30c4-4c90-ba76-3e89a028f965",
   "metadata": {},
   "outputs": [
    {
     "name": "stderr",
     "output_type": "stream",
     "text": [
      "C:\\Users\\ACER\\AppData\\Local\\Temp\\ipykernel_14732\\3061408433.py:5: FutureWarning: The provided callable <function mean at 0x0000026BD5A609A0> is currently using DataFrameGroupBy.mean. In a future version of pandas, the provided callable will be used directly. To keep current behavior pass the string \"mean\" instead.\n",
      "  ].agg(numpy.mean)\n"
     ]
    }
   ],
   "source": [
    "#Để cô lập ta sẽ sử dụng giá trị đại diện là giá trị trung bình của môn học.Điều này giúp ta có được kết quả phân tích dựa trên các điểm số một cách tốt nhất\n",
    "class_size = class_size.groupby(\"DBN\").mean(numeric_only=True)\n",
    "class_size.groupby(\"DBN\")[\n",
    "    class_size.select_dtypes(include=numpy.number).columns\n",
    "].agg(numpy.mean)\n",
    "data[\"class_size\"] = class_size"
   ]
  },
  {
   "cell_type": "code",
   "execution_count": 16,
   "id": "df9c6d4b-3504-4261-bbab-1ad451a5dd56",
   "metadata": {},
   "outputs": [
    {
     "name": "stdout",
     "output_type": "stream",
     "text": [
      "        CSD  NUMBER OF STUDENTS / SEATS FILLED  NUMBER OF SECTIONS  \\\n",
      "DBN                                                                  \n",
      "01M292  1.0                            88.0000            4.000000   \n",
      "01M332  1.0                            46.0000            2.000000   \n",
      "01M378  1.0                            33.0000            1.000000   \n",
      "01M448  1.0                           105.6875            4.750000   \n",
      "01M450  1.0                            57.6000            2.733333   \n",
      "\n",
      "        AVERAGE CLASS SIZE  SIZE OF SMALLEST CLASS  SIZE OF LARGEST CLASS  \\\n",
      "DBN                                                                         \n",
      "01M292           22.564286                   18.50              26.571429   \n",
      "01M332           22.000000                   21.00              23.500000   \n",
      "01M378           33.000000                   33.00              33.000000   \n",
      "01M448           22.231250                   18.25              27.062500   \n",
      "01M450           21.200000                   19.40              22.866667   \n",
      "\n",
      "        SCHOOLWIDE PUPIL-TEACHER RATIO  \n",
      "DBN                                     \n",
      "01M292                             NaN  \n",
      "01M332                             NaN  \n",
      "01M378                             NaN  \n",
      "01M448                             NaN  \n",
      "01M450                             NaN  \n"
     ]
    }
   ],
   "source": [
    "print(data[\"class_size\"].head())"
   ]
  },
  {
   "cell_type": "markdown",
   "id": "605d08c1-f1ee-4be0-996a-2a28feaff021",
   "metadata": {},
   "source": [
    "## Lọc dữ liệu demographics"
   ]
  },
  {
   "cell_type": "code",
   "execution_count": 17,
   "id": "bd589924-502a-4486-a7ad-4ce410aacbbb",
   "metadata": {},
   "outputs": [
    {
     "name": "stdout",
     "output_type": "stream",
     "text": [
      "      DBN                       Name  schoolyear fl_percent  frl_percent  \\\n",
      "0  01M015  P.S. 015 ROBERTO CLEMENTE    20052006       89.4          NaN   \n",
      "1  01M015  P.S. 015 ROBERTO CLEMENTE    20062007       89.4          NaN   \n",
      "2  01M015  P.S. 015 ROBERTO CLEMENTE    20072008       89.4          NaN   \n",
      "3  01M015  P.S. 015 ROBERTO CLEMENTE    20082009       89.4          NaN   \n",
      "4  01M015  P.S. 015 ROBERTO CLEMENTE    20092010                    96.5   \n",
      "\n",
      "   total_enrollment prek   k grade1 grade2  ... black_num black_per  \\\n",
      "0               281   15  36     40     33  ...        74      26.3   \n",
      "1               243   15  29     39     38  ...        68      28.0   \n",
      "2               261   18  43     39     36  ...        77      29.5   \n",
      "3               252   17  37     44     32  ...        75      29.8   \n",
      "4               208   16  40     28     32  ...        67      32.2   \n",
      "\n",
      "  hispanic_num hispanic_per white_num white_per male_num male_per female_num  \\\n",
      "0          189         67.3         5       1.8    158.0     56.2      123.0   \n",
      "1          153         63.0         4       1.6    140.0     57.6      103.0   \n",
      "2          157         60.2         7       2.7    143.0     54.8      118.0   \n",
      "3          149         59.1         7       2.8    149.0     59.1      103.0   \n",
      "4          118         56.7         6       2.9    124.0     59.6       84.0   \n",
      "\n",
      "  female_per  \n",
      "0       43.8  \n",
      "1       42.4  \n",
      "2       45.2  \n",
      "3       40.9  \n",
      "4       40.4  \n",
      "\n",
      "[5 rows x 38 columns]\n"
     ]
    }
   ],
   "source": [
    "print(data[\"demographics\"].head())"
   ]
  },
  {
   "cell_type": "raw",
   "id": "d78d2bb5-21ed-4a19-bebd-ae2c1a55f08b",
   "metadata": {},
   "source": [
    "Quan sát:\n",
    "Yếu tố duy nhất khiến mã DBN bị trùng là schoolyear\n",
    "Ta sẽ lọc dữ liệu bằng cách lấy năm học gần nhất."
   ]
  },
  {
   "cell_type": "code",
   "execution_count": 18,
   "id": "fa5342a1-1ec4-41d3-b9cf-19ca583554e3",
   "metadata": {},
   "outputs": [],
   "source": [
    "data[\"demographics\"] = pd.DataFrame(data[\"demographics\"])\n"
   ]
  },
  {
   "cell_type": "code",
   "execution_count": 19,
   "id": "b1c6728a-5d83-4cf6-875d-951ebb473039",
   "metadata": {},
   "outputs": [
    {
     "data": {
      "text/html": [
       "<div>\n",
       "<style scoped>\n",
       "    .dataframe tbody tr th:only-of-type {\n",
       "        vertical-align: middle;\n",
       "    }\n",
       "\n",
       "    .dataframe tbody tr th {\n",
       "        vertical-align: top;\n",
       "    }\n",
       "\n",
       "    .dataframe thead th {\n",
       "        text-align: right;\n",
       "    }\n",
       "</style>\n",
       "<table border=\"1\" class=\"dataframe\">\n",
       "  <thead>\n",
       "    <tr style=\"text-align: right;\">\n",
       "      <th></th>\n",
       "      <th>DBN</th>\n",
       "      <th>Name</th>\n",
       "      <th>schoolyear</th>\n",
       "      <th>fl_percent</th>\n",
       "      <th>frl_percent</th>\n",
       "      <th>total_enrollment</th>\n",
       "      <th>prek</th>\n",
       "      <th>k</th>\n",
       "      <th>grade1</th>\n",
       "      <th>grade2</th>\n",
       "      <th>...</th>\n",
       "      <th>black_num</th>\n",
       "      <th>black_per</th>\n",
       "      <th>hispanic_num</th>\n",
       "      <th>hispanic_per</th>\n",
       "      <th>white_num</th>\n",
       "      <th>white_per</th>\n",
       "      <th>male_num</th>\n",
       "      <th>male_per</th>\n",
       "      <th>female_num</th>\n",
       "      <th>female_per</th>\n",
       "    </tr>\n",
       "  </thead>\n",
       "  <tbody>\n",
       "    <tr>\n",
       "      <th>0</th>\n",
       "      <td>01M015</td>\n",
       "      <td>P.S. 015 ROBERTO CLEMENTE</td>\n",
       "      <td>20052006</td>\n",
       "      <td>89.4</td>\n",
       "      <td>NaN</td>\n",
       "      <td>281</td>\n",
       "      <td>15</td>\n",
       "      <td>36</td>\n",
       "      <td>40</td>\n",
       "      <td>33</td>\n",
       "      <td>...</td>\n",
       "      <td>74</td>\n",
       "      <td>26.3</td>\n",
       "      <td>189</td>\n",
       "      <td>67.3</td>\n",
       "      <td>5</td>\n",
       "      <td>1.8</td>\n",
       "      <td>158.0</td>\n",
       "      <td>56.2</td>\n",
       "      <td>123.0</td>\n",
       "      <td>43.8</td>\n",
       "    </tr>\n",
       "    <tr>\n",
       "      <th>1</th>\n",
       "      <td>01M015</td>\n",
       "      <td>P.S. 015 ROBERTO CLEMENTE</td>\n",
       "      <td>20062007</td>\n",
       "      <td>89.4</td>\n",
       "      <td>NaN</td>\n",
       "      <td>243</td>\n",
       "      <td>15</td>\n",
       "      <td>29</td>\n",
       "      <td>39</td>\n",
       "      <td>38</td>\n",
       "      <td>...</td>\n",
       "      <td>68</td>\n",
       "      <td>28.0</td>\n",
       "      <td>153</td>\n",
       "      <td>63.0</td>\n",
       "      <td>4</td>\n",
       "      <td>1.6</td>\n",
       "      <td>140.0</td>\n",
       "      <td>57.6</td>\n",
       "      <td>103.0</td>\n",
       "      <td>42.4</td>\n",
       "    </tr>\n",
       "    <tr>\n",
       "      <th>2</th>\n",
       "      <td>01M015</td>\n",
       "      <td>P.S. 015 ROBERTO CLEMENTE</td>\n",
       "      <td>20072008</td>\n",
       "      <td>89.4</td>\n",
       "      <td>NaN</td>\n",
       "      <td>261</td>\n",
       "      <td>18</td>\n",
       "      <td>43</td>\n",
       "      <td>39</td>\n",
       "      <td>36</td>\n",
       "      <td>...</td>\n",
       "      <td>77</td>\n",
       "      <td>29.5</td>\n",
       "      <td>157</td>\n",
       "      <td>60.2</td>\n",
       "      <td>7</td>\n",
       "      <td>2.7</td>\n",
       "      <td>143.0</td>\n",
       "      <td>54.8</td>\n",
       "      <td>118.0</td>\n",
       "      <td>45.2</td>\n",
       "    </tr>\n",
       "    <tr>\n",
       "      <th>3</th>\n",
       "      <td>01M015</td>\n",
       "      <td>P.S. 015 ROBERTO CLEMENTE</td>\n",
       "      <td>20082009</td>\n",
       "      <td>89.4</td>\n",
       "      <td>NaN</td>\n",
       "      <td>252</td>\n",
       "      <td>17</td>\n",
       "      <td>37</td>\n",
       "      <td>44</td>\n",
       "      <td>32</td>\n",
       "      <td>...</td>\n",
       "      <td>75</td>\n",
       "      <td>29.8</td>\n",
       "      <td>149</td>\n",
       "      <td>59.1</td>\n",
       "      <td>7</td>\n",
       "      <td>2.8</td>\n",
       "      <td>149.0</td>\n",
       "      <td>59.1</td>\n",
       "      <td>103.0</td>\n",
       "      <td>40.9</td>\n",
       "    </tr>\n",
       "    <tr>\n",
       "      <th>4</th>\n",
       "      <td>01M015</td>\n",
       "      <td>P.S. 015 ROBERTO CLEMENTE</td>\n",
       "      <td>20092010</td>\n",
       "      <td></td>\n",
       "      <td>96.5</td>\n",
       "      <td>208</td>\n",
       "      <td>16</td>\n",
       "      <td>40</td>\n",
       "      <td>28</td>\n",
       "      <td>32</td>\n",
       "      <td>...</td>\n",
       "      <td>67</td>\n",
       "      <td>32.2</td>\n",
       "      <td>118</td>\n",
       "      <td>56.7</td>\n",
       "      <td>6</td>\n",
       "      <td>2.9</td>\n",
       "      <td>124.0</td>\n",
       "      <td>59.6</td>\n",
       "      <td>84.0</td>\n",
       "      <td>40.4</td>\n",
       "    </tr>\n",
       "  </tbody>\n",
       "</table>\n",
       "<p>5 rows × 38 columns</p>\n",
       "</div>"
      ],
      "text/plain": [
       "      DBN                       Name  schoolyear fl_percent  frl_percent  \\\n",
       "0  01M015  P.S. 015 ROBERTO CLEMENTE    20052006       89.4          NaN   \n",
       "1  01M015  P.S. 015 ROBERTO CLEMENTE    20062007       89.4          NaN   \n",
       "2  01M015  P.S. 015 ROBERTO CLEMENTE    20072008       89.4          NaN   \n",
       "3  01M015  P.S. 015 ROBERTO CLEMENTE    20082009       89.4          NaN   \n",
       "4  01M015  P.S. 015 ROBERTO CLEMENTE    20092010                    96.5   \n",
       "\n",
       "   total_enrollment prek   k grade1 grade2  ... black_num black_per  \\\n",
       "0               281   15  36     40     33  ...        74      26.3   \n",
       "1               243   15  29     39     38  ...        68      28.0   \n",
       "2               261   18  43     39     36  ...        77      29.5   \n",
       "3               252   17  37     44     32  ...        75      29.8   \n",
       "4               208   16  40     28     32  ...        67      32.2   \n",
       "\n",
       "  hispanic_num hispanic_per white_num white_per male_num male_per female_num  \\\n",
       "0          189         67.3         5       1.8    158.0     56.2      123.0   \n",
       "1          153         63.0         4       1.6    140.0     57.6      103.0   \n",
       "2          157         60.2         7       2.7    143.0     54.8      118.0   \n",
       "3          149         59.1         7       2.8    149.0     59.1      103.0   \n",
       "4          118         56.7         6       2.9    124.0     59.6       84.0   \n",
       "\n",
       "  female_per  \n",
       "0       43.8  \n",
       "1       42.4  \n",
       "2       45.2  \n",
       "3       40.9  \n",
       "4       40.4  \n",
       "\n",
       "[5 rows x 38 columns]"
      ]
     },
     "execution_count": 19,
     "metadata": {},
     "output_type": "execute_result"
    }
   ],
   "source": [
    "data['demographics'].head()"
   ]
  },
  {
   "cell_type": "code",
   "execution_count": 20,
   "id": "7891c88b-5293-403d-a720-01e3c863cfd4",
   "metadata": {},
   "outputs": [
    {
     "name": "stdout",
     "output_type": "stream",
     "text": [
      "          DBN                                              Name  schoolyear  \\\n",
      "6      01M015  P.S. 015 ROBERTO CLEMENTE                           20112012   \n",
      "13     01M019  P.S. 019 ASHER LEVY                                 20112012   \n",
      "20     01M020  PS 020 ANNA SILVER                                  20112012   \n",
      "27     01M034  PS 034 FRANKLIN D ROOSEVELT                         20112012   \n",
      "35     01M063  PS 063 WILLIAM MCKINLEY                             20112012   \n",
      "...       ...                                               ...         ...   \n",
      "10046  32K549  BUSHWICK SCHOOL FOR SOCIAL JUSTICE                  20112012   \n",
      "10053  32K552  ACADEMY OF URBAN PLANNING                           20112012   \n",
      "10060  32K554  ALL CITY LEADERSHIP SECONDARY SCHOOL                20112012   \n",
      "10067  32K556  BUSHWICK LEADERS HIGH SCHOOL FOR ACADEMIC EXCELL    20112012   \n",
      "10074  32K564  BUSHWICK COMMUNITY HIGH SCHOOL                      20112012   \n",
      "\n",
      "      fl_percent  frl_percent  total_enrollment  prek     k grade1 grade2  \\\n",
      "6            NaN         89.4               189    13    31     35     28   \n",
      "13           NaN         61.5               328    32    46     52     54   \n",
      "20           NaN         92.5               626    52   102    121     87   \n",
      "27           NaN         99.7               401    14    34     38     36   \n",
      "35           NaN         78.9               176    18    20     30     21   \n",
      "...          ...          ...               ...   ...   ...    ...    ...   \n",
      "10046        NaN         75.1               434                             \n",
      "10053        NaN         77.1               398                             \n",
      "10060        NaN         81.4               263                             \n",
      "10067        NaN         88.0               462                             \n",
      "10074        NaN         81.8               382                             \n",
      "\n",
      "       ... black_num black_per hispanic_num hispanic_per white_num white_per  \\\n",
      "6      ...        63      33.3          109         57.7         4       2.1   \n",
      "13     ...        81      24.7          158         48.2        28       8.5   \n",
      "20     ...        55       8.8          357         57.0        16       2.6   \n",
      "27     ...        90      22.4          275         68.6         8       2.0   \n",
      "35     ...        41      23.3          110         62.5        15       8.5   \n",
      "...    ...       ...       ...          ...          ...       ...       ...   \n",
      "10046  ...       123      28.3          298         68.7         8       1.8   \n",
      "10053  ...       105      26.4          280         70.4         4       1.0   \n",
      "10060  ...        34      12.9          209         79.5         4       1.5   \n",
      "10067  ...        98      21.2          357         77.3         0       0.0   \n",
      "10074  ...       137      35.9          235         61.5         7       1.8   \n",
      "\n",
      "      male_num male_per female_num female_per  \n",
      "6         97.0     51.3       92.0       48.7  \n",
      "13       147.0     44.8      181.0       55.2  \n",
      "20       330.0     52.7      296.0       47.3  \n",
      "27       204.0     50.9      197.0       49.1  \n",
      "35        97.0     55.1       79.0       44.9  \n",
      "...        ...      ...        ...        ...  \n",
      "10046    210.0     48.4      224.0       51.6  \n",
      "10053    217.0     54.5      181.0       45.5  \n",
      "10060    137.0     52.1      126.0       47.9  \n",
      "10067    246.0     53.2      216.0       46.8  \n",
      "10074    169.0     44.2      213.0       55.8  \n",
      "\n",
      "[1509 rows x 38 columns]\n"
     ]
    }
   ],
   "source": [
    "data['demographics'] = data['demographics'][data['demographics']['schoolyear'] == 20112012]\n",
    "print(data['demographics'])"
   ]
  },
  {
   "cell_type": "markdown",
   "id": "fa79feff-3bde-4f45-a37d-4521e9116e9b",
   "metadata": {},
   "source": [
    "## Lọc dữ liệu tập tốt nghiệp"
   ]
  },
  {
   "cell_type": "raw",
   "id": "bd8e808f-b718-4fd5-9bb8-c74fdfd09f86",
   "metadata": {},
   "source": [
    "Quan sát:Demographic,\n",
    "Các cột khiến mã DBN trùng nhau là:Demographic,Cohort."
   ]
  },
  {
   "cell_type": "code",
   "execution_count": 21,
   "id": "b5b8c96b-9b2d-489f-bea8-5607e50064ff",
   "metadata": {},
   "outputs": [
    {
     "name": "stdout",
     "output_type": "stream",
     "text": [
      "Empty DataFrame\n",
      "Columns: [Demographic, DBN, School Name, Cohort, Total Cohort, Total Grads - n, Total Grads - % of cohort, Total Regents - n, Total Regents - % of cohort, Total Regents - % of grads, Advanced Regents - n, Advanced Regents - % of cohort, Advanced Regents - % of grads, Regents w/o Advanced - n, Regents w/o Advanced - % of cohort, Regents w/o Advanced - % of grads, Local - n, Local - % of cohort, Local - % of grads, Still Enrolled - n, Still Enrolled - % of cohort, Dropped Out - n, Dropped Out - % of cohort]\n",
      "Index: []\n",
      "\n",
      "[0 rows x 23 columns]\n"
     ]
    }
   ],
   "source": [
    "#Lọc dữ liệu cách chọn năm Cohort gần nhất là 2006,và nhóm Demographic là Total Cohort\n",
    "data[\"graduation\"] = data[\"graduation\"][data[\"graduation\"][\"Cohort\"] == 2006]\n",
    "data[\"graduation\"] = data[\"graduation\"][data[\"graduation\"][\"Demographic\"] == \"Total Cohort\"]\n",
    "print(data[\"graduation\"].head())"
   ]
  },
  {
   "cell_type": "markdown",
   "id": "13072214-4d1f-45c6-bb64-f8fa4d7956f8",
   "metadata": {},
   "source": [
    "## Kiểm tra dữ liệu ap_2010"
   ]
  },
  {
   "cell_type": "code",
   "execution_count": 22,
   "id": "93495827-20aa-4b6b-a842-703e1f92b29a",
   "metadata": {},
   "outputs": [
    {
     "name": "stdout",
     "output_type": "stream",
     "text": [
      "DBN                                      object\n",
      "SchoolName                               object\n",
      "AP Test Takers                          float64\n",
      "Total Exams Taken                       float64\n",
      "Number of Exams with scores 3 4 or 5    float64\n",
      "dtype: object\n"
     ]
    }
   ],
   "source": [
    "# chuyển đổi dữ liệu sang numberic\n",
    "cols = ['AP Test Takers ', 'Total Exams Taken', 'Number of Exams with scores 3 4 or 5']\n",
    "for col in cols:\n",
    "    data[\"ap_2010\"][col] = pd.to_numeric(data[\"ap_2010\"][col], errors = \"coerce\")\n",
    "    \n",
    "print(data[\"ap_2010\"].dtypes)"
   ]
  },
  {
   "cell_type": "code",
   "execution_count": 23,
   "id": "09889b66-0baa-4a03-b110-8064ce6ec66a",
   "metadata": {},
   "outputs": [],
   "source": [
    "## Kết hợp dữ liệu "
   ]
  },
  {
   "cell_type": "raw",
   "id": "7749a94e-9eb7-4301-9dfe-6a4965b80702",
   "metadata": {},
   "source": [
    "Có thể có các giá trị tồn tại trong một tập dữ liệu nhưng không tồn tại trong một tập dữ liệu khác. \n",
    "Điều này một phần là do dữ liệu là từ các năm khác nhau. Mỗi bộ dữ liệu cũng có sự không nhất quán về cách nó được thu thập. Lỗi của con người (và các loại lỗi khác) cũng có thể đóng một vai trò"
   ]
  },
  {
   "cell_type": "raw",
   "id": "7ac4006d-4ac5-4365-904c-0bcfb8fbbd75",
   "metadata": {},
   "source": [
    "Ta sẽ kết hợp bằng cách kết hợp hai bộ dữ liệu cùng lúc sau đó hợp kết quả đó với dữ liệu khác."
   ]
  },
  {
   "cell_type": "raw",
   "id": "f4ee3987-1bc7-4962-9926-cb137d8f587d",
   "metadata": {},
   "source": [
    "Mục tiêu: Kết hợp sao cho lấy nhiều hàng ở dữ liệu sat_results nhất.Bỏ ít nhất các hàng\n",
    "Sử dụng kết hợp Inner,left"
   ]
  },
  {
   "cell_type": "raw",
   "id": "454b52bc-91f5-465c-acae-d6381cef6e1b",
   "metadata": {},
   "source": [
    "Kết hợp sat_results với hai bộ dữ liệu có nhiều giá trị bị thiếu là ap_2010 và grauduation bằng phương thức left"
   ]
  },
  {
   "cell_type": "code",
   "execution_count": 24,
   "id": "369e2ad7-7f12-4ac0-9235-676d0f498cfa",
   "metadata": {},
   "outputs": [
    {
     "name": "stdout",
     "output_type": "stream",
     "text": [
      "      DBN                                    SCHOOL NAME  \\\n",
      "0  01M292  HENRY STREET SCHOOL FOR INTERNATIONAL STUDIES   \n",
      "1  01M448            UNIVERSITY NEIGHBORHOOD HIGH SCHOOL   \n",
      "2  01M450                     EAST SIDE COMMUNITY SCHOOL   \n",
      "3  01M458                      FORSYTH SATELLITE ACADEMY   \n",
      "4  01M509                        MARTA VALLE HIGH SCHOOL   \n",
      "\n",
      "  Num of SAT Test Takers  SAT Critical Reading Avg. Score  \\\n",
      "0                     29                            355.0   \n",
      "1                     91                            383.0   \n",
      "2                     70                            377.0   \n",
      "3                      7                            414.0   \n",
      "4                     44                            390.0   \n",
      "\n",
      "   SAT Math Avg. Score  SAT Writing Avg. Score  sat_score  \\\n",
      "0                404.0                   363.0     1122.0   \n",
      "1                423.0                   366.0     1172.0   \n",
      "2                402.0                   370.0     1149.0   \n",
      "3                401.0                   359.0     1174.0   \n",
      "4                433.0                   384.0     1207.0   \n",
      "\n",
      "                     SchoolName  AP Test Takers   Total Exams Taken  ...  \\\n",
      "0                           NaN              NaN                NaN  ...   \n",
      "1  UNIVERSITY NEIGHBORHOOD H.S.             39.0               49.0  ...   \n",
      "2        EAST SIDE COMMUNITY HS             19.0               21.0  ...   \n",
      "3                           NaN              NaN                NaN  ...   \n",
      "4                           NaN              NaN                NaN  ...   \n",
      "\n",
      "   Regents w/o Advanced - n Regents w/o Advanced - % of cohort  \\\n",
      "0                       NaN                                NaN   \n",
      "1                       NaN                                NaN   \n",
      "2                       NaN                                NaN   \n",
      "3                       NaN                                NaN   \n",
      "4                       NaN                                NaN   \n",
      "\n",
      "  Regents w/o Advanced - % of grads Local - n  Local - % of cohort  \\\n",
      "0                               NaN       NaN                  NaN   \n",
      "1                               NaN       NaN                  NaN   \n",
      "2                               NaN       NaN                  NaN   \n",
      "3                               NaN       NaN                  NaN   \n",
      "4                               NaN       NaN                  NaN   \n",
      "\n",
      "  Local - % of grads  Still Enrolled - n Still Enrolled - % of cohort  \\\n",
      "0                NaN                 NaN                          NaN   \n",
      "1                NaN                 NaN                          NaN   \n",
      "2                NaN                 NaN                          NaN   \n",
      "3                NaN                 NaN                          NaN   \n",
      "4                NaN                 NaN                          NaN   \n",
      "\n",
      "   Dropped Out - n  Dropped Out - % of cohort  \n",
      "0              NaN                        NaN  \n",
      "1              NaN                        NaN  \n",
      "2              NaN                        NaN  \n",
      "3              NaN                        NaN  \n",
      "4              NaN                        NaN  \n",
      "\n",
      "[5 rows x 33 columns]\n",
      "(479, 33)\n"
     ]
    }
   ],
   "source": [
    "combined = data[\"sat_results\"]\n",
    "combined = pd.merge(left = combined, right = data[\"ap_2010\"], on = \"DBN\", how = \"left\")\n",
    "combined = pd.merge(left = combined, right = data[\"graduation\"], on = \"DBN\", how = \"left\")\n",
    "\n",
    "print(combined.head(5))\n",
    "print(combined.shape)"
   ]
  },
  {
   "cell_type": "raw",
   "id": "0fda8e80-2575-4b3f-8d6c-e0035abd120a",
   "metadata": {},
   "source": [
    "Các dữ liệu còn lại chứa các thông tin hữu ích cho việc phân tích vì vậy ta sẽ sử dụng phương thức inner"
   ]
  },
  {
   "cell_type": "code",
   "execution_count": 25,
   "id": "d4581d4c-32a2-4b43-8d85-300f9ac1abbc",
   "metadata": {},
   "outputs": [
    {
     "name": "stdout",
     "output_type": "stream",
     "text": [
      "      DBN                                        SCHOOL NAME  \\\n",
      "0  01M292      HENRY STREET SCHOOL FOR INTERNATIONAL STUDIES   \n",
      "1  01M448                UNIVERSITY NEIGHBORHOOD HIGH SCHOOL   \n",
      "2  01M450                         EAST SIDE COMMUNITY SCHOOL   \n",
      "3  01M509                            MARTA VALLE HIGH SCHOOL   \n",
      "4  01M539  NEW EXPLORATIONS INTO SCIENCE, TECHNOLOGY AND ...   \n",
      "\n",
      "  Num of SAT Test Takers  SAT Critical Reading Avg. Score  \\\n",
      "0                     29                            355.0   \n",
      "1                     91                            383.0   \n",
      "2                     70                            377.0   \n",
      "3                     44                            390.0   \n",
      "4                    159                            522.0   \n",
      "\n",
      "   SAT Math Avg. Score  SAT Writing Avg. Score  sat_score  \\\n",
      "0                404.0                   363.0     1122.0   \n",
      "1                423.0                   366.0     1172.0   \n",
      "2                402.0                   370.0     1149.0   \n",
      "3                433.0                   384.0     1207.0   \n",
      "4                574.0                   525.0     1621.0   \n",
      "\n",
      "                       SchoolName  AP Test Takers   Total Exams Taken  ...  \\\n",
      "0                             NaN              NaN                NaN  ...   \n",
      "1    UNIVERSITY NEIGHBORHOOD H.S.             39.0               49.0  ...   \n",
      "2          EAST SIDE COMMUNITY HS             19.0               21.0  ...   \n",
      "3                             NaN              NaN                NaN  ...   \n",
      "4  NEW EXPLORATIONS SCI,TECH,MATH            255.0              377.0  ...   \n",
      "\n",
      "   priority10                                         Location 1  \\\n",
      "0         NaN  220 Henry Street\\nNew York, NY 10002\\n(40.7137...   \n",
      "1         NaN  200 Monroe Street\\nNew York, NY 10002\\n(40.712...   \n",
      "2         NaN  420 East 12 Street\\nNew York, NY 10009\\n(40.72...   \n",
      "3         NaN  145 Stanton Street\\nNew York, NY 10002\\n(40.72...   \n",
      "4         NaN  111 Columbia Street\\nNew York, NY 10002\\n(40.7...   \n",
      "\n",
      "  Community Board Council District  Census Tract        BIN           BBL  \\\n",
      "0             3.0              1.0         201.0  1003223.0  1.002690e+09   \n",
      "1             3.0              1.0         202.0  1003214.0  1.002590e+09   \n",
      "2             3.0              2.0          34.0  1005974.0  1.004390e+09   \n",
      "3             3.0              1.0        3001.0  1004323.0  1.003540e+09   \n",
      "4             3.0              2.0        2201.0  1004070.0  1.003350e+09   \n",
      "\n",
      "                                                 NTA        lat        lon  \n",
      "0  Lower East Side                               ...  40.713764 -73.985260  \n",
      "1  Lower East Side                               ...  40.712332 -73.984797  \n",
      "2  East Village                                  ...  40.729783 -73.983041  \n",
      "3  Chinatown                                     ...  40.720569 -73.985673  \n",
      "4  Lower East Side                               ...  40.718725 -73.979426  \n",
      "\n",
      "[5 rows x 165 columns]\n",
      "(363, 165)\n"
     ]
    }
   ],
   "source": [
    "to_merge = [\"class_size\", \"demographics\", \"survey\", \"hs_directory\"]\n",
    "\n",
    "for m in to_merge:\n",
    "    combined = pd.merge(left = combined, right = data[m], on = \"DBN\", how = \"inner\")\n",
    "    \n",
    "print(combined.head(5))\n",
    "print(combined.shape)"
   ]
  },
  {
   "cell_type": "code",
   "execution_count": 26,
   "id": "f014ff3c-65ac-4762-a1e0-179e5fb0cf1e",
   "metadata": {},
   "outputs": [
    {
     "name": "stdout",
     "output_type": "stream",
     "text": [
      "<class 'pandas.core.frame.DataFrame'>\n",
      "RangeIndex: 363 entries, 0 to 362\n",
      "Columns: 165 entries, DBN to lon\n",
      "dtypes: float64(70), int64(11), object(84)\n",
      "memory usage: 468.1+ KB\n"
     ]
    }
   ],
   "source": [
    "combined.info()"
   ]
  },
  {
   "cell_type": "raw",
   "id": "fe75c3a0-d253-417a-b78e-a102133c7aea",
   "metadata": {},
   "source": [
    "Vì ta hiện đang tìm kiếm các mối tương quan cấp cao, vì vậy không cần phải đi sâu vào những mối tương quan nào còn thiếu nên ta sữ xử lý các giá trị còn thiếu bằng cách "
   ]
  },
  {
   "cell_type": "raw",
   "id": "8210a6f1-f4b3-4a44-9d6c-663b1bc54535",
   "metadata": {},
   "source": [
    "Thay thế các giá trị thiếu bằng giá trị trung bình "
   ]
  },
  {
   "cell_type": "code",
   "execution_count": 27,
   "id": "3bc4bd83-5c76-48bd-b163-3ece4e7ef6a7",
   "metadata": {},
   "outputs": [
    {
     "name": "stdout",
     "output_type": "stream",
     "text": [
      "      DBN                                        SCHOOL NAME  \\\n",
      "0  01M292      HENRY STREET SCHOOL FOR INTERNATIONAL STUDIES   \n",
      "1  01M448                UNIVERSITY NEIGHBORHOOD HIGH SCHOOL   \n",
      "2  01M450                         EAST SIDE COMMUNITY SCHOOL   \n",
      "3  01M509                            MARTA VALLE HIGH SCHOOL   \n",
      "4  01M539  NEW EXPLORATIONS INTO SCIENCE, TECHNOLOGY AND ...   \n",
      "\n",
      "  Num of SAT Test Takers  SAT Critical Reading Avg. Score  \\\n",
      "0                     29                            355.0   \n",
      "1                     91                            383.0   \n",
      "2                     70                            377.0   \n",
      "3                     44                            390.0   \n",
      "4                    159                            522.0   \n",
      "\n",
      "   SAT Math Avg. Score  SAT Writing Avg. Score  sat_score  \\\n",
      "0                404.0                   363.0     1122.0   \n",
      "1                423.0                   366.0     1172.0   \n",
      "2                402.0                   370.0     1149.0   \n",
      "3                433.0                   384.0     1207.0   \n",
      "4                574.0                   525.0     1621.0   \n",
      "\n",
      "                       SchoolName  AP Test Takers   Total Exams Taken  ...  \\\n",
      "0                               0       129.028846         197.038462  ...   \n",
      "1    UNIVERSITY NEIGHBORHOOD H.S.        39.000000          49.000000  ...   \n",
      "2          EAST SIDE COMMUNITY HS        19.000000          21.000000  ...   \n",
      "3                               0       129.028846         197.038462  ...   \n",
      "4  NEW EXPLORATIONS SCI,TECH,MATH       255.000000         377.000000  ...   \n",
      "\n",
      "   priority10                                         Location 1  \\\n",
      "0           0  220 Henry Street\\nNew York, NY 10002\\n(40.7137...   \n",
      "1           0  200 Monroe Street\\nNew York, NY 10002\\n(40.712...   \n",
      "2           0  420 East 12 Street\\nNew York, NY 10009\\n(40.72...   \n",
      "3           0  145 Stanton Street\\nNew York, NY 10002\\n(40.72...   \n",
      "4           0  111 Columbia Street\\nNew York, NY 10002\\n(40.7...   \n",
      "\n",
      "   Community Board  Council District  Census Tract        BIN           BBL  \\\n",
      "0              3.0               1.0         201.0  1003223.0  1.002690e+09   \n",
      "1              3.0               1.0         202.0  1003214.0  1.002590e+09   \n",
      "2              3.0               2.0          34.0  1005974.0  1.004390e+09   \n",
      "3              3.0               1.0        3001.0  1004323.0  1.003540e+09   \n",
      "4              3.0               2.0        2201.0  1004070.0  1.003350e+09   \n",
      "\n",
      "                                                 NTA        lat        lon  \n",
      "0  Lower East Side                               ...  40.713764 -73.985260  \n",
      "1  Lower East Side                               ...  40.712332 -73.984797  \n",
      "2  East Village                                  ...  40.729783 -73.983041  \n",
      "3  Chinatown                                     ...  40.720569 -73.985673  \n",
      "4  Lower East Side                               ...  40.718725 -73.979426  \n",
      "\n",
      "[5 rows x 165 columns]\n"
     ]
    }
   ],
   "source": [
    "numeric_cols = combined.select_dtypes(include=[numpy.number])\n",
    "combined[numeric_cols.columns] = numeric_cols.fillna(numeric_cols.mean())\n",
    "combined[combined.select_dtypes(include=[object]).columns] = combined.select_dtypes(include=[object]).fillna(0)\n",
    "print(combined.head(5))"
   ]
  },
  {
   "cell_type": "code",
   "execution_count": 28,
   "id": "564efcd2-2458-48c2-8343-2fb509312f0f",
   "metadata": {},
   "outputs": [
    {
     "name": "stdout",
     "output_type": "stream",
     "text": [
      "DBN\n",
      "SCHOOL NAME\n",
      "Num of SAT Test Takers\n",
      "SAT Critical Reading Avg. Score\n",
      "SAT Math Avg. Score\n",
      "SAT Writing Avg. Score\n",
      "sat_score\n",
      "SchoolName\n",
      "AP Test Takers \n",
      "Total Exams Taken\n",
      "Number of Exams with scores 3 4 or 5\n",
      "Demographic\n",
      "School Name\n",
      "Cohort\n",
      "Total Cohort\n",
      "Total Grads - n\n",
      "Total Grads - % of cohort\n",
      "Total Regents - n\n",
      "Total Regents - % of cohort\n",
      "Total Regents - % of grads\n",
      "Advanced Regents - n\n",
      "Advanced Regents - % of cohort\n",
      "Advanced Regents - % of grads\n",
      "Regents w/o Advanced - n\n",
      "Regents w/o Advanced - % of cohort\n",
      "Regents w/o Advanced - % of grads\n",
      "Local - n\n",
      "Local - % of cohort\n",
      "Local - % of grads\n",
      "Still Enrolled - n\n",
      "Still Enrolled - % of cohort\n",
      "Dropped Out - n\n",
      "Dropped Out - % of cohort\n",
      "CSD\n",
      "NUMBER OF STUDENTS / SEATS FILLED\n",
      "NUMBER OF SECTIONS\n",
      "AVERAGE CLASS SIZE\n",
      "SIZE OF SMALLEST CLASS\n",
      "SIZE OF LARGEST CLASS\n",
      "SCHOOLWIDE PUPIL-TEACHER RATIO\n",
      "Name\n",
      "schoolyear\n",
      "fl_percent\n",
      "frl_percent\n",
      "total_enrollment\n",
      "prek\n",
      "k\n",
      "grade1\n",
      "grade2\n",
      "grade3\n",
      "grade4\n",
      "grade5\n",
      "grade6\n",
      "grade7\n",
      "grade8\n",
      "grade9\n",
      "grade10\n",
      "grade11\n",
      "grade12\n",
      "ell_num\n",
      "ell_percent\n",
      "sped_num\n",
      "sped_percent\n",
      "ctt_num\n",
      "selfcontained_num\n",
      "asian_num\n",
      "asian_per\n",
      "black_num\n",
      "black_per\n",
      "hispanic_num\n",
      "hispanic_per\n",
      "white_num\n",
      "white_per\n",
      "male_num\n",
      "male_per\n",
      "female_num\n",
      "female_per\n",
      "rr_s\n",
      "rr_t\n",
      "rr_p\n",
      "N_s\n",
      "N_t\n",
      "N_p\n",
      "saf_p_11\n",
      "com_p_11\n",
      "eng_p_11\n",
      "aca_p_11\n",
      "saf_t_11\n",
      "com_t_11\n",
      "eng_t_11\n",
      "aca_t_11\n",
      "saf_s_11\n",
      "com_s_11\n",
      "eng_s_11\n",
      "aca_s_11\n",
      "saf_tot_11\n",
      "com_tot_11\n",
      "eng_tot_11\n",
      "aca_tot_11\n",
      "dbn\n",
      "school_name\n",
      "borough\n",
      "building_code\n",
      "phone_number\n",
      "fax_number\n",
      "grade_span_min\n",
      "grade_span_max\n",
      "expgrade_span_min\n",
      "expgrade_span_max\n",
      "bus\n",
      "subway\n",
      "primary_address_line_1\n",
      "city\n",
      "state_code\n",
      "postcode\n",
      "website\n",
      "total_students\n",
      "campus_name\n",
      "school_type\n",
      "overview_paragraph\n",
      "program_highlights\n",
      "language_classes\n",
      "advancedplacement_courses\n",
      "online_ap_courses\n",
      "online_language_courses\n",
      "extracurricular_activities\n",
      "psal_sports_boys\n",
      "psal_sports_girls\n",
      "psal_sports_coed\n",
      "school_sports\n",
      "partner_cbo\n",
      "partner_hospital\n",
      "partner_highered\n",
      "partner_cultural\n",
      "partner_nonprofit\n",
      "partner_corporate\n",
      "partner_financial\n",
      "partner_other\n",
      "addtl_info1\n",
      "addtl_info2\n",
      "start_time\n",
      "end_time\n",
      "se_services\n",
      "ell_programs\n",
      "school_accessibility_description\n",
      "number_programs\n",
      "priority01\n",
      "priority02\n",
      "priority03\n",
      "priority04\n",
      "priority05\n",
      "priority06\n",
      "priority07\n",
      "priority08\n",
      "priority09\n",
      "priority10\n",
      "Location 1\n",
      "Community Board\n",
      "Council District\n",
      "Census Tract\n",
      "BIN\n",
      "BBL\n",
      "NTA\n",
      "lat\n",
      "lon\n"
     ]
    }
   ],
   "source": [
    "for col in combined.columns:\n",
    "    print(col)"
   ]
  },
  {
   "cell_type": "code",
   "execution_count": null,
   "id": "930faba1-7fb1-439c-a9dd-e964b8d5f2bc",
   "metadata": {},
   "outputs": [],
   "source": []
  },
  {
   "cell_type": "markdown",
   "id": "1b27ecc2-2292-4480-aa03-c75ef72b7629",
   "metadata": {},
   "source": [
    "# Kiểm tra sự tương quan "
   ]
  },
  {
   "cell_type": "code",
   "execution_count": 29,
   "id": "8e24a9c9-59a3-4bab-a253-56d53e284473",
   "metadata": {},
   "outputs": [
    {
     "name": "stdout",
     "output_type": "stream",
     "text": [
      "SAT Critical Reading Avg. Score    0.986820\n",
      "SAT Math Avg. Score                0.972643\n",
      "SAT Writing Avg. Score             0.987771\n",
      "sat_score                          1.000000\n",
      "AP Test Takers                     0.523140\n",
      "                                     ...   \n",
      "Census Tract                       0.048737\n",
      "BIN                                0.052232\n",
      "BBL                                0.044427\n",
      "lat                               -0.121029\n",
      "lon                               -0.132222\n",
      "Name: sat_score, Length: 95, dtype: float64\n"
     ]
    }
   ],
   "source": [
    "numeric_combined = combined.select_dtypes(include=[numpy.number])\n",
    "correlations = numeric_combined.corr()\n",
    "correlations = correlations[\"sat_score\"]\n",
    "print(correlations)"
   ]
  },
  {
   "cell_type": "raw",
   "id": "9f0d80ca-03d6-4d75-b7cd-a072f839b60b",
   "metadata": {},
   "source": [
    "Quan sát\n",
    "Có sự liên quan chặt chẽ các biến SAT Critical Reading Avg. ScoreSAT Math Avg. ScoreSAT Writing Avg. Score"
   ]
  },
  {
   "cell_type": "raw",
   "id": "596b10e8-809e-4551-95bc-0d50544dd87c",
   "metadata": {},
   "source": [
    "Quan sát\n",
    "total_enrollment có mốimport matplotlib.pyplot as plt\n",
    "combined.plot.scatter(x = 'total_enrollment', y = 'sat_score')\n",
    "plt.show()i tương quan dương mạnh mẽ với sat_score.Các trường lớn hơn có xu hướng làm tốt hơn trong kỳ thi SAT.\n",
    "Cả tỷ lệ phần trăm nữ và số nữ tại một trường đều tương quan thuận với điểm SAT, trong khi tỷ lệ phần trăm nam và số nam tương quan nghịch với nhau. Điều này có thể chỉ ra rằng phụ nữ thi SAT tốt hơn nam giới.\n",
    "Xếp hạng của giáo viên và học sinh về an toàn trường học và tương quan với sat_score\n",
    "Xếp hạng của học sinh về tiêu chuẩn học tập của trường tương quan với sat_score, nhưng điều này không áp dụng cho xếp hạng từ giáo viên và phụ huynh  \n",
    "Có sự bất bình đẳng chủng tộc đáng kể trong điểm SAT(white_per,asian_per,black_per,hispanic_per)\n",
    "Tỷ lệ học sinh đủ điều kiện nhận bữa trưa miễn phí hoặc giảm giá ở trường dựa trên thu nhập hộ gia đình frl_percent có mối tương quan nghịch mạnh mẽ với điểm SAT"
   ]
  },
  {
   "cell_type": "code",
   "execution_count": 30,
   "id": "c234b680-8967-41cb-9fae-2541c5519e51",
   "metadata": {},
   "outputs": [
    {
     "data": {
      "image/png": "[encoded data removed]",
      "text/plain": [
       "<Figure size 640x480 with 1 Axes>"
      ]
     },
     "metadata": {},
     "output_type": "display_data"
    }
   ],
   "source": [
    "combined.plot.scatter(x = 'total_enrollment', y = 'sat_score')\n",
    "plt.show()"
   ]
  },
  {
   "cell_type": "code",
   "execution_count": 31,
   "id": "f8981b3a-f098-4c89-913a-8fedc2e14f0a",
   "metadata": {},
   "outputs": [
    {
     "data": {
      "image/png": "[encoded data removed]",
      "text/plain": [
       "<Figure size 640x480 with 1 Axes>"
      ]
     },
     "metadata": {},
     "output_type": "display_data"
    }
   ],
   "source": [
    "combined.plot.scatter(x = 'ell_percent', y = 'sat_score')\n",
    "plt.show()       "
   ]
  },
  {
   "cell_type": "raw",
   "id": "f4491d3b-06cc-449f-b5af-ab4360088a7a",
   "metadata": {},
   "source": [
    "Hầu hết các trường trung học có tổng số tuyển sinh thấp và điểm SAT thấp có tỷ lệ người học tiếng Anh cao."
   ]
  },
  {
   "cell_type": "markdown",
   "id": "32ceb249-f64e-420a-b0a5-b01961813fb7",
   "metadata": {},
   "source": [
    "## Plotting survey correlations"
   ]
  },
  {
   "cell_type": "code",
   "execution_count": 32,
   "id": "16012908-42f9-48fb-b3b8-15d00c40c44d",
   "metadata": {},
   "outputs": [],
   "source": [
    "# Remove DBN since it's a unique identifier, not a useful numerical value for correlation.\n",
    "survey_fields.remove(\"DBN\")"
   ]
  },
  {
   "cell_type": "code",
   "execution_count": 33,
   "id": "a17f7246-b0f1-4354-882d-a0d7695fc29c",
   "metadata": {},
   "outputs": [
    {
     "data": {
      "image/png": "[encoded data removed]",
      "text/plain": [
       "<Figure size 640x480 with 1 Axes>"
      ]
     },
     "metadata": {},
     "output_type": "display_data"
    }
   ],
   "source": [
    "numeric_combined = combined.select_dtypes(include=[numpy.number])\n",
    "correlation = numeric_combined.corr()['sat_score'][survey_fields]\n",
    "correlation.plot.bar()\n",
    "\n",
    "plt.xlabel('Survey Fields')\n",
    "plt.ylabel('Correlation with SAT Scores')\n",
    "plt.show()\n",
    "# chart abbreviations:\n",
    "# rr_ : response rate\n",
    "# N_ : number of respondents\n",
    "# s : student\n",
    "# t : teacher\n",
    "# p : parent\n",
    "# saf_ : safety and respect score\n",
    "# com_ : communication score\n",
    "# eng_ : engagement score\n",
    "# aca_ : academic expectations score"
   ]
  },
  {
   "cell_type": "code",
   "execution_count": 34,
   "id": "39a77e15-75fa-4224-a09f-43137ee9c127",
   "metadata": {},
   "outputs": [
    {
     "ename": "SyntaxError",
     "evalue": "invalid syntax (1628953628.py, line 1)",
     "output_type": "error",
     "traceback": [
      "\u001b[1;36m  Cell \u001b[1;32mIn[34], line 1\u001b[1;36m\u001b[0m\n\u001b[1;33m    Các lĩnh vực này cho thấy mối tương quan tương đối mạnh mẽ hơn với điểm SAT:\u001b[0m\n\u001b[1;37m        ^\u001b[0m\n\u001b[1;31mSyntaxError\u001b[0m\u001b[1;31m:\u001b[0m invalid syntax\n"
     ]
    }
   ],
   "source": [
    "Các lĩnh vực này cho thấy mối tương quan tương đối mạnh mẽ hơn với điểm SAT:\n",
    "Tích cực\n",
    "- số lượng người trả lời(N_s)\n",
    "- điểm an toàn và tôn trọng dựa trên phản hồi của giáo viên và học sinh(saf_s_11 và saf_s11)\n",
    "- kỳ vọng học tập dựa trên phản hồi của sinh viên(aca_s_11)\n",
    "Tiêu cực\n",
    "- `rr_t` (Tỷ lệ phản hồi của giáo viên)  \n",
    "- `com_p_11` (Điểm giao tiếp từ phụ huynh) "
   ]
  },
  {
   "cell_type": "raw",
   "id": "fc8be887-45a0-4dc0-a069-c3801a7f52bf",
   "metadata": {},
   "source": [
    "Có thể thấy  tham gia của học sinh và phụ huynh, cùng với nhận thức về sự an toàn và kỳ vọng học tập, có mối tương quan chẽ hchặtơn với điểm SAT so với tỷ lệ phản hồi của giáo viên và điểm giao tiếp của phụ huynh."
   ]
  },
  {
   "cell_type": "markdown",
   "id": "4fb33181-c742-44aa-8a3f-c0a75754aba9",
   "metadata": {},
   "source": [
    "## Tương quan điểm SAT và sự an toàn"
   ]
  },
  {
   "cell_type": "code",
   "execution_count": 35,
   "id": "f5a7360d-5a6f-44a4-896d-f3728354f1ef",
   "metadata": {},
   "outputs": [
    {
     "data": {
      "image/png": "[encoded data removed]",
      "text/plain": [
       "<Figure size 640x480 with 1 Axes>"
      ]
     },
     "metadata": {},
     "output_type": "display_data"
    }
   ],
   "source": [
    "combined.plot.scatter(x = 'saf_tot_11' ,y= 'sat_score')\n",
    "plt.show()"
   ]
  },
  {
   "cell_type": "raw",
   "id": "a25518c9-d0a0-4df8-b7a9-809e1b241406",
   "metadata": {},
   "source": [
    "Xu hướng tích cực: Điểm an toàn của học sinh cao hơn thường liên quan đến điểm SAT cao hơn, cho thấy rằng môi trường học tập an toàn và tôn trọng hơn có thể nâng cao kết quả học tập.\n",
    "Biểu đồ phân tán này cho thấy rằng việc cải thiện sự an toàn của học sinh có thể tác động tích cực đến điểm SAT, mặc dù nó không phải là yếu tố duy nhất dẫn đến thành công trong học tập."
   ]
  },
  {
   "cell_type": "code",
   "execution_count": 36,
   "id": "4d5ac88e-c145-4b11-95be-7ebe3e6cfd7e",
   "metadata": {},
   "outputs": [
    {
     "data": {
      "text/plain": [
       "borough\n",
       "Brooklyn         7.129245\n",
       "Staten Island    7.200000\n",
       "Bronx            7.322581\n",
       "Queens           7.387500\n",
       "Manhattan        7.473333\n",
       "Name: saf_tot_11, dtype: float64"
      ]
     },
     "execution_count": 36,
     "metadata": {},
     "output_type": "execute_result"
    }
   ],
   "source": [
    "combined.groupby('borough')['saf_tot_11'].mean().sort_values()"
   ]
  },
  {
   "cell_type": "raw",
   "id": "66243a1d-8c31-4d0d-b68d-3d48040d59db",
   "metadata": {},
   "source": [
    "Các quan sát cho thấy Manhattan và Queens có điểm an toàn cao nhất, trong khi Brooklyn có điểm thấp nhất."
   ]
  },
  {
   "cell_type": "markdown",
   "id": "77d75fc7-9a5c-48f7-b694-2422696e0a93",
   "metadata": {},
   "source": [
    "## Exploring Race and SAT Scores"
   ]
  },
  {
   "cell_type": "code",
   "execution_count": 37,
   "id": "8eda4759-59a3-45c8-9c56-61e253ef21e3",
   "metadata": {},
   "outputs": [
    {
     "data": {
      "text/plain": [
       "<Axes: >"
      ]
     },
     "execution_count": 37,
     "metadata": {},
     "output_type": "execute_result"
    },
    {
     "data": {
      "image/png": "[encoded data removed]",
      "text/plain": [
       "<Figure size 640x480 with 1 Axes>"
      ]
     },
     "metadata": {},
     "output_type": "display_data"
    }
   ],
   "source": [
    "numeric_combined = combined.select_dtypes(include=[numpy.number])\n",
    "numeric_combined.corr()['sat_score'][['white_per','asian_per','black_per','hispanic_per']].plot.bar()"
   ]
  },
  {
   "cell_type": "raw",
   "id": "c8f03351-ce77-4e18-b224-7dc171749ae5",
   "metadata": {},
   "source": [
    "Biểu đồ thanh ở trên nêu bật mối tương quan đáng kể. \n",
    "Có mối tương quan tích cực đối với học sinh da trắng và châu Á\n",
    "Trong khi có mối tương quan tiêu cực đối với học sinh da đen và gốc Tây Ban Nha.\n",
    "Điều này cho thấy rằng sự gia tăng số lượng học sinh da trắng và châu Á có liên quan đến điểm SAT cao hơn. Ngược lại, số lượng học sinh da đen và gốc Tây Ban Nha cao hơn có xu hướng tương quan với điểm SAT thấp hơn."
   ]
  },
  {
   "cell_type": "code",
   "execution_count": 38,
   "id": "8bbcb73e-3681-4e4d-a152-be8ded1e6d76",
   "metadata": {},
   "outputs": [
    {
     "data": {
      "text/plain": [
       "<Axes: xlabel='sat_score', ylabel='hispanic_per'>"
      ]
     },
     "execution_count": 38,
     "metadata": {},
     "output_type": "execute_result"
    },
    {
     "data": {
      "image/png": "[encoded data removed]",
      "text/plain": [
       "<Figure size 640x480 with 1 Axes>"
      ]
     },
     "metadata": {},
     "output_type": "display_data"
    }
   ],
   "source": [
    "combined.plot.scatter(x='sat_score',y='hispanic_per')"
   ]
  },
  {
   "cell_type": "code",
   "execution_count": 39,
   "id": "ca947597-c416-4cbe-b9d5-e0208d72d19a",
   "metadata": {},
   "outputs": [
    {
     "ename": "SyntaxError",
     "evalue": "invalid syntax (2420302702.py, line 1)",
     "output_type": "error",
     "traceback": [
      "\u001b[1;36m  Cell \u001b[1;32mIn[39], line 1\u001b[1;36m\u001b[0m\n\u001b[1;33m    Một số trường học có điểm SAT thấp và cao\u001b[0m\n\u001b[1;37m        ^\u001b[0m\n\u001b[1;31mSyntaxError\u001b[0m\u001b[1;31m:\u001b[0m invalid syntax\n"
     ]
    }
   ],
   "source": [
    "Một số trường học có điểm SAT thấp và cao "
   ]
  },
  {
   "cell_type": "code",
   "execution_count": 40,
   "id": "5a80a752-5b01-471b-a9e8-e8b513818282",
   "metadata": {},
   "outputs": [
    {
     "data": {
      "text/html": [
       "<div>\n",
       "<style scoped>\n",
       "    .dataframe tbody tr th:only-of-type {\n",
       "        vertical-align: middle;\n",
       "    }\n",
       "\n",
       "    .dataframe tbody tr th {\n",
       "        vertical-align: top;\n",
       "    }\n",
       "\n",
       "    .dataframe thead th {\n",
       "        text-align: right;\n",
       "    }\n",
       "</style>\n",
       "<table border=\"1\" class=\"dataframe\">\n",
       "  <thead>\n",
       "    <tr style=\"text-align: right;\">\n",
       "      <th></th>\n",
       "      <th>school_name</th>\n",
       "      <th>sat_score</th>\n",
       "    </tr>\n",
       "  </thead>\n",
       "  <tbody>\n",
       "    <tr>\n",
       "      <th>44</th>\n",
       "      <td>Manhattan Bridges High School</td>\n",
       "      <td>1058.0</td>\n",
       "    </tr>\n",
       "    <tr>\n",
       "      <th>82</th>\n",
       "      <td>Washington Heights Expeditionary Learning School</td>\n",
       "      <td>1174.0</td>\n",
       "    </tr>\n",
       "    <tr>\n",
       "      <th>89</th>\n",
       "      <td>Gregorio Luperon High School for Science and M...</td>\n",
       "      <td>1014.0</td>\n",
       "    </tr>\n",
       "    <tr>\n",
       "      <th>125</th>\n",
       "      <td>Academy for Language and Technology</td>\n",
       "      <td>951.0</td>\n",
       "    </tr>\n",
       "    <tr>\n",
       "      <th>141</th>\n",
       "      <td>International School for Liberal Arts</td>\n",
       "      <td>934.0</td>\n",
       "    </tr>\n",
       "    <tr>\n",
       "      <th>176</th>\n",
       "      <td>Pan American International High School at Monroe</td>\n",
       "      <td>970.0</td>\n",
       "    </tr>\n",
       "    <tr>\n",
       "      <th>253</th>\n",
       "      <td>Multicultural High School</td>\n",
       "      <td>887.0</td>\n",
       "    </tr>\n",
       "    <tr>\n",
       "      <th>286</th>\n",
       "      <td>Pan American International High School</td>\n",
       "      <td>951.0</td>\n",
       "    </tr>\n",
       "  </tbody>\n",
       "</table>\n",
       "</div>"
      ],
      "text/plain": [
       "                                           school_name  sat_score\n",
       "44                       Manhattan Bridges High School     1058.0\n",
       "82    Washington Heights Expeditionary Learning School     1174.0\n",
       "89   Gregorio Luperon High School for Science and M...     1014.0\n",
       "125                Academy for Language and Technology      951.0\n",
       "141              International School for Liberal Arts      934.0\n",
       "176   Pan American International High School at Monroe      970.0\n",
       "253                          Multicultural High School      887.0\n",
       "286             Pan American International High School      951.0"
      ]
     },
     "execution_count": 40,
     "metadata": {},
     "output_type": "execute_result"
    }
   ],
   "source": [
    "filtered = (combined['hispanic_per']>95)\n",
    "combined[filtered][['school_name','sat_score']]"
   ]
  },
  {
   "cell_type": "code",
   "execution_count": 41,
   "id": "b5d94bb0-ae4a-44cc-9ca3-9950f9cf268e",
   "metadata": {},
   "outputs": [
    {
     "data": {
      "text/html": [
       "<div>\n",
       "<style scoped>\n",
       "    .dataframe tbody tr th:only-of-type {\n",
       "        vertical-align: middle;\n",
       "    }\n",
       "\n",
       "    .dataframe tbody tr th {\n",
       "        vertical-align: top;\n",
       "    }\n",
       "\n",
       "    .dataframe thead th {\n",
       "        text-align: right;\n",
       "    }\n",
       "</style>\n",
       "<table border=\"1\" class=\"dataframe\">\n",
       "  <thead>\n",
       "    <tr style=\"text-align: right;\">\n",
       "      <th></th>\n",
       "      <th>school_name</th>\n",
       "      <th>sat_score</th>\n",
       "    </tr>\n",
       "  </thead>\n",
       "  <tbody>\n",
       "    <tr>\n",
       "      <th>37</th>\n",
       "      <td>Stuyvesant High School</td>\n",
       "      <td>2096.0</td>\n",
       "    </tr>\n",
       "    <tr>\n",
       "      <th>151</th>\n",
       "      <td>Bronx High School of Science</td>\n",
       "      <td>1969.0</td>\n",
       "    </tr>\n",
       "    <tr>\n",
       "      <th>187</th>\n",
       "      <td>Brooklyn Technical High School</td>\n",
       "      <td>1833.0</td>\n",
       "    </tr>\n",
       "    <tr>\n",
       "      <th>327</th>\n",
       "      <td>Queens High School for the Sciences at York Co...</td>\n",
       "      <td>1868.0</td>\n",
       "    </tr>\n",
       "    <tr>\n",
       "      <th>356</th>\n",
       "      <td>Staten Island Technical High School</td>\n",
       "      <td>1953.0</td>\n",
       "    </tr>\n",
       "  </tbody>\n",
       "</table>\n",
       "</div>"
      ],
      "text/plain": [
       "                                           school_name  sat_score\n",
       "37                              Stuyvesant High School     2096.0\n",
       "151                       Bronx High School of Science     1969.0\n",
       "187                     Brooklyn Technical High School     1833.0\n",
       "327  Queens High School for the Sciences at York Co...     1868.0\n",
       "356                Staten Island Technical High School     1953.0"
      ]
     },
     "execution_count": 41,
     "metadata": {},
     "output_type": "execute_result"
    }
   ],
   "source": [
    "filtered = (combined['hispanic_per']<10)&(combined['sat_score']>1800)\n",
    "combined[filtered][['school_name','sat_score']]"
   ]
  },
  {
   "cell_type": "markdown",
   "id": "b3fda3c0-9108-434f-b650-921f672da314",
   "metadata": {},
   "source": [
    "## Exploring Gender and SAT Scores"
   ]
  },
  {
   "cell_type": "code",
   "execution_count": 42,
   "id": "fbb833db-084b-4226-b8a6-5eca3042246e",
   "metadata": {},
   "outputs": [
    {
     "data": {
      "text/plain": [
       "<Axes: >"
      ]
     },
     "execution_count": 42,
     "metadata": {},
     "output_type": "execute_result"
    },
    {
     "data": {
      "image/png": "[encoded data removed]",
      "text/plain": [
       "<Figure size 640x480 with 1 Axes>"
      ]
     },
     "metadata": {},
     "output_type": "display_data"
    }
   ],
   "source": [
    "numeric_combined.corr()['sat_score'][['male_per','female_per']].plot.bar()"
   ]
  },
  {
   "cell_type": "raw",
   "id": "55f0d4c0-28f0-432a-8f4f-e6115d8280de",
   "metadata": {},
   "source": [
    "Có sự tương quan nhẹ ở cả nam và nữ\n",
    "Nam tiêu cực\n",
    "Nữ tích cực"
   ]
  },
  {
   "cell_type": "code",
   "execution_count": 43,
   "id": "584bb481-75ed-4f8b-99f2-1ddd2c30cd66",
   "metadata": {},
   "outputs": [
    {
     "data": {
      "text/plain": [
       "<Axes: xlabel='female_per', ylabel='sat_score'>"
      ]
     },
     "execution_count": 43,
     "metadata": {},
     "output_type": "execute_result"
    },
    {
     "data": {
      "image/png": "[encoded data removed]",
      "text/plain": [
       "<Figure size 640x480 with 1 Axes>"
      ]
     },
     "metadata": {},
     "output_type": "display_data"
    }
   ],
   "source": [
    "combined.plot.scatter(x='female_per',y='sat_score')"
   ]
  },
  {
   "cell_type": "raw",
   "id": "a5aa9cdb-60bb-44c8-875e-0d232b35152c",
   "metadata": {},
   "source": [
    "Điểm SAT trên 1400 chủ yếu xảy ra ở các trường có dân số bao gồm 40 đến 80% nữ. Hầu như tất cả điểm SAT dưới 1000 cũng được tìm thấy ở các trường có 40 đến 60% học sinh nữ."
   ]
  },
  {
   "cell_type": "code",
   "execution_count": 44,
   "id": "1fcb1437-f4d4-4515-bf16-2651e1644a0f",
   "metadata": {},
   "outputs": [
    {
     "data": {
      "text/plain": [
       "5                         Bard High School Early College\n",
       "26                         Eleanor Roosevelt High School\n",
       "60                                    Beacon High School\n",
       "61     Fiorello H. LaGuardia High School of Music & A...\n",
       "302                          Townsend Harris High School\n",
       "Name: school_name, dtype: object"
      ]
     },
     "execution_count": 44,
     "metadata": {},
     "output_type": "execute_result"
    }
   ],
   "source": [
    "filtered = (combined['female_per']>60)&(combined['sat_score']>1700)\n",
    "combined[filtered]['school_name']"
   ]
  },
  {
   "cell_type": "raw",
   "id": "61392bb1-af45-4079-98b4-6f1073c66387",
   "metadata": {},
   "source": [
    "Những trường này dường như là những trường khai phóng có tính chọn lọc cao với tiêu chuẩn học thuật cao."
   ]
  },
  {
   "cell_type": "markdown",
   "id": "5a482d43-90e2-4354-abdd-0e60f9eb1ba4",
   "metadata": {},
   "source": [
    "# Exploring Class size and SAT Scores"
   ]
  },
  {
   "cell_type": "code",
   "execution_count": 45,
   "id": "897e9606-f554-471f-bd6c-5ae894bf417c",
   "metadata": {},
   "outputs": [
    {
     "name": "stderr",
     "output_type": "stream",
     "text": [
      "C:\\Users\\ACER\\AppData\\Local\\Temp\\ipykernel_14732\\147992221.py:6: FutureWarning: The default of observed=False is deprecated and will be changed to True in a future version of pandas. Pass observed=False to retain current behavior or observed=True to adopt the future default and silence this warning.\n",
      "  grouped_data = combined.groupby(bins)['sat_score'].mean()\n"
     ]
    },
    {
     "data": {
      "image/png": "[encoded data removed]",
      "text/plain": [
       "<Figure size 640x480 with 1 Axes>"
      ]
     },
     "metadata": {},
     "output_type": "display_data"
    }
   ],
   "source": [
    "# combined.groupby('AVERAGE CLASS SIZE')['sat_score'].mean().plot.bar()\n",
    "# Create bins for the 'AVERAGE CLASS SIZE'  \n",
    "bins = pd.cut(combined['AVERAGE CLASS SIZE'], bins=10)  # You can adjust the number of bins as needed  \n",
    "\n",
    "# Group by the bins and calculate the mean SAT score  \n",
    "grouped_data = combined.groupby(bins)['sat_score'].mean()  \n",
    "\n",
    "# Plot the binned data  \n",
    "grouped_data.plot.bar()  \n",
    "plt.xlabel('Average Class Size Bins')  \n",
    "plt.ylabel('Mean SAT Score')  \n",
    "plt.title('Mean SAT Score by Average Class Size')  \n",
    "plt.show()  "
   ]
  },
  {
   "cell_type": "code",
   "execution_count": 46,
   "id": "58f691e2-9e13-4ac1-8f5a-00eb1cf82962",
   "metadata": {},
   "outputs": [
    {
     "data": {
      "text/plain": [
       "0.3810143308095529"
      ]
     },
     "execution_count": 46,
     "metadata": {},
     "output_type": "execute_result"
    }
   ],
   "source": [
    "numeric_combined.corr()['AVERAGE CLASS SIZE']['sat_score']"
   ]
  },
  {
   "cell_type": "code",
   "execution_count": 47,
   "id": "3e9b20fb-6de0-4b56-9a48-43d8e793bbc6",
   "metadata": {},
   "outputs": [
    {
     "data": {
      "text/plain": [
       "<Axes: xlabel='AVERAGE CLASS SIZE', ylabel='sat_score'>"
      ]
     },
     "execution_count": 47,
     "metadata": {},
     "output_type": "execute_result"
    },
    {
     "data": {
      "image/png": "[encoded data removed]",
      "text/plain": [
       "<Figure size 640x480 with 1 Axes>"
      ]
     },
     "metadata": {},
     "output_type": "display_data"
    }
   ],
   "source": [
    "combined.plot.scatter(x='AVERAGE CLASS SIZE',y='sat_score')"
   ]
  },
  {
   "cell_type": "raw",
   "id": "0c1825ba-8fca-4290-884c-4b74b5cd7948",
   "metadata": {},
   "source": [
    "Chỉ có một trường có quy mô lớp học trung bình vượt quá 35. Nếu bỏ điều đó sang một bên, chúng ta có thể nói chung rằng các lớp học lớn hơn có xu hướng tương quan với điểm SAT trung bình cao hơn. Tuy nhiên, không có mối tương quan mạnh mẽ đã được quan sát."
   ]
  },
  {
   "cell_type": "code",
   "execution_count": null,
   "id": "c36708a4-5dcd-4b07-9290-26868dd324c0",
   "metadata": {},
   "outputs": [],
   "source": []
  },
  {
   "cell_type": "code",
   "execution_count": null,
   "id": "d185c23c-78d6-4497-9d54-acda6978d31f",
   "metadata": {},
   "outputs": [],
   "source": []
  },
  {
   "cell_type": "code",
   "execution_count": null,
   "id": "0edcf23a-2206-45e1-8326-44b1f8129038",
   "metadata": {},
   "outputs": [],
   "source": []
  }
 ],
 "metadata": {
  "kernelspec": {
   "display_name": "Python 3 (ipykernel)",
   "language": "python",
   "name": "python3"
  },
  "language_info": {
   "codemirror_mode": {
    "name": "ipython",
    "version": 3
   },
   "file_extension": ".py",
   "mimetype": "text/x-python",
   "name": "python",
   "nbconvert_exporter": "python",
   "pygments_lexer": "ipython3",
   "version": "3.11.7"
  },
  "widgets": {
   "application/vnd.jupyter.widget-state+json": {
    "state": {},
    "version_major": 2,
    "version_minor": 0
   }
  }
 },
 "nbformat": 4,
 "nbformat_minor": 5
}
